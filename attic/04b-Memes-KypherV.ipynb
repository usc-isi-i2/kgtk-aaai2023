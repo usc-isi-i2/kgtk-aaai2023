{
 "cells": [
  {
   "cell_type": "markdown",
   "id": "b5ad9a36-bd3b-4e45-93b1-8178ce4d51de",
   "metadata": {},
   "source": [
    "# Query IMKG and its embeddings with KGTK Kypher-V"
   ]
  },
  {
   "cell_type": "code",
   "execution_count": 43,
   "id": "9936b2ff-f7ba-452e-99c0-268996472001",
   "metadata": {},
   "outputs": [],
   "source": [
    "import re\n",
    "from IPython.display import display, HTML\n",
    "from kgtk.functions import kgtk\n",
    "\n",
    "def show_html(img_width=150):\n",
    "    \"\"\"Display command output in 'out' as HTML after munging image links for inline display.\"\"\"\n",
    "    output = '\\n'.join(out)\n",
    "    html = re.sub(r'<td>&quot;(https?://upload.wikimedia.org/[^<]+)&quot;</td>', \n",
    "                  f'<td style=\"width:{img_width}px;vertical-align:top\"><img \" src=\"\\\\1\"/></td>', \n",
    "                  output)\n",
    "    display(HTML(html))"
   ]
  },
  {
   "cell_type": "code",
   "execution_count": 44,
   "id": "79e88fe0-b4d6-452a-a151-d5dd3cc4095a",
   "metadata": {},
   "outputs": [
    {
     "name": "stdout",
     "output_type": "stream",
     "text": [
      "env: DB=kypherv\n",
      "env: MAIN=kypherv/wikidata-20221102-dwd-v8-main.sqlite3.db\n",
      "env: ABSTRACT=kypherv/wikidata-20221102-dwd-v8-abstract-embeddings-large.sqlite3.db\n",
      "env: IMAGE=kypherv/wikimedia-capcom-image-embeddings-v2.sqlite3.db\n"
     ]
    }
   ],
   "source": [
    "DB=\"kypherv\"\n",
    "%env DB={DB}\n",
    "%env MAIN={DB}/wikidata-20221102-dwd-v8-main.sqlite3.db\n",
    "%env ABSTRACT={DB}/wikidata-20221102-dwd-v8-abstract-embeddings-large.sqlite3.db\n",
    "%env IMAGE={DB}/wikimedia-capcom-image-embeddings-v2.sqlite3.db"
   ]
  },
  {
   "cell_type": "code",
   "execution_count": 45,
   "id": "648f1d5a-d5da-4190-9844-2fe75a699783",
   "metadata": {},
   "outputs": [
    {
     "name": "stdout",
     "output_type": "stream",
     "text": [
      "Graph Cache:\n",
      "DB file: kypherv/wikidata-20221102-dwd-v8-abstract-embeddings-large.sqlite3.db\n",
      "  size:  33.89 GB   \tfree:  0 Bytes   \tmodified:  2023-01-25 16:20:33\n",
      "\n",
      "KGTK File Information:\n",
      "/Users/filipilievski/mcs/kgtk-tutorial-aaai23/wikidata/labels.en.tsv.gz:\n",
      "  size:  679.79 MB   \tmodified:  2023-01-25 14:11:01   \tgraph:  graph_3\n",
      "abstract:\n",
      "  size:  0 Bytes   \tmodified:  2023-01-19 13:24:19   \tgraph:  graph_1\n",
      "sentence:\n",
      "  size:  256.32 MB   \tmodified:  2023-01-04 13:53:44   \tgraph:  graph_2\n",
      "\n",
      "Graph Table Information:\n",
      "graph_1:\n",
      "  size:  28.21 GB   \tcreated:  2023-01-19 13:24:19\n",
      "  header:  ['node1', 'label', 'node2', 'id']\n",
      "graph_2:\n",
      "  size:  1.23 GB   \tcreated:  2023-01-19 15:01:41\n",
      "  header:  ['node1', 'label', 'node2', 'id']\n",
      "graph_3:\n",
      "  size:  4.52 GB   \tcreated:  2023-01-25 16:19:55\n",
      "  header:  ['id', 'node1', 'label', 'node2', 'lang', 'rank', 'node2;wikidatatype']\n"
     ]
    }
   ],
   "source": [
    "!kgtk query --gc $ABSTRACT --sc"
   ]
  },
  {
   "cell_type": "code",
   "execution_count": 23,
   "id": "42245ae1-cb5c-4f81-bdc3-b938bc0e1894",
   "metadata": {},
   "outputs": [
    {
     "data": {
      "text/html": [
       "<div>\n",
       "<style scoped>\n",
       "    .dataframe tbody tr th:only-of-type {\n",
       "        vertical-align: middle;\n",
       "    }\n",
       "\n",
       "    .dataframe tbody tr th {\n",
       "        vertical-align: top;\n",
       "    }\n",
       "\n",
       "    .dataframe thead th {\n",
       "        text-align: right;\n",
       "    }\n",
       "</style>\n",
       "<table border=\"1\" class=\"dataframe\">\n",
       "  <thead>\n",
       "    <tr style=\"text-align: right;\">\n",
       "      <th></th>\n",
       "      <th>node1</th>\n",
       "      <th>label</th>\n",
       "      <th>node2</th>\n",
       "      <th>id</th>\n",
       "      <th>node2;_kgtk_vec_qcell</th>\n",
       "    </tr>\n",
       "  </thead>\n",
       "  <tbody>\n",
       "    <tr>\n",
       "      <th>0</th>\n",
       "      <td>Q1000929</td>\n",
       "      <td>emb</td>\n",
       "      <td>b'7xcbM?x88x8ax0c?x8b:xa0xbfN3\\?xb9Yxac&gt;-xe6d?...</td>\n",
       "      <td>E567</td>\n",
       "      <td>0</td>\n",
       "    </tr>\n",
       "    <tr>\n",
       "      <th>1</th>\n",
       "      <td>Q100146561</td>\n",
       "      <td>emb</td>\n",
       "      <td>b'6|xa0?x89x06x84?xc1x00\\xbf.XVxbf$%a&gt;x11xfex8...</td>\n",
       "      <td>E1080</td>\n",
       "      <td>0</td>\n",
       "    </tr>\n",
       "    <tr>\n",
       "      <th>2</th>\n",
       "      <td>Q100146569</td>\n",
       "      <td>emb</td>\n",
       "      <td>b'Gx8fy?xc9x0fx08?x06`Axbfnxdfxdbxbexeb;xda=x1...</td>\n",
       "      <td>E1088</td>\n",
       "      <td>0</td>\n",
       "    </tr>\n",
       "  </tbody>\n",
       "</table>\n",
       "</div>"
      ],
      "text/plain": [
       "        node1 label                                              node2     id  \\\n",
       "0    Q1000929   emb  b'7xcbM?x88x8ax0c?x8b:xa0xbfN3\\?xb9Yxac>-xe6d?...   E567   \n",
       "1  Q100146561   emb  b'6|xa0?x89x06x84?xc1x00\\xbf.XVxbf$%a>x11xfex8...  E1080   \n",
       "2  Q100146569   emb  b'Gx8fy?xc9x0fx08?x06`Axbfnxdfxdbxbexeb;xda=x1...  E1088   \n",
       "\n",
       "   node2;_kgtk_vec_qcell  \n",
       "0                      0  \n",
       "1                      0  \n",
       "2                      0  "
      ]
     },
     "execution_count": 23,
     "metadata": {},
     "output_type": "execute_result"
    }
   ],
   "source": [
    "kgtk(\"\"\"query --gc $ABSTRACT -i abstract --limit 3\"\"\")"
   ]
  },
  {
   "cell_type": "markdown",
   "id": "79f652c2-c99c-4692-a22e-eae75fcf5fd7",
   "metadata": {},
   "source": [
    "Query the abstract labels:"
   ]
  },
  {
   "cell_type": "code",
   "execution_count": 26,
   "id": "445d6257-81f3-4fcb-bf66-791a5f79c61a",
   "metadata": {},
   "outputs": [
    {
     "data": {
      "text/html": [
       "<div>\n",
       "<style scoped>\n",
       "    .dataframe tbody tr th:only-of-type {\n",
       "        vertical-align: middle;\n",
       "    }\n",
       "\n",
       "    .dataframe tbody tr th {\n",
       "        vertical-align: top;\n",
       "    }\n",
       "\n",
       "    .dataframe thead th {\n",
       "        text-align: right;\n",
       "    }\n",
       "</style>\n",
       "<table border=\"1\" class=\"dataframe\">\n",
       "  <thead>\n",
       "    <tr style=\"text-align: right;\">\n",
       "      <th></th>\n",
       "      <th>xlabel</th>\n",
       "      <th>ylabel</th>\n",
       "      <th>sim</th>\n",
       "    </tr>\n",
       "  </thead>\n",
       "  <tbody>\n",
       "    <tr>\n",
       "      <th>0</th>\n",
       "      <td>'SpongeBob SquarePants'@en</td>\n",
       "      <td>'balloon'@en</td>\n",
       "      <td>0.277892</td>\n",
       "    </tr>\n",
       "  </tbody>\n",
       "</table>\n",
       "</div>"
      ],
      "text/plain": [
       "                       xlabel        ylabel       sim\n",
       "0  'SpongeBob SquarePants'@en  'balloon'@en  0.277892"
      ]
     },
     "execution_count": 26,
     "metadata": {},
     "output_type": "execute_result"
    }
   ],
   "source": [
    "kgtk(\"\"\" \n",
    "      query --gc $ABSTRACT\n",
    "      -i abstract -i \"wikidata/labels.en.tsv.gz\"\n",
    "      --match 'abstract: (x:Q83279)-->(xv),\n",
    "                         (y:Q183951)-->(yv),\n",
    "               label:   (x)-->(xl), (y)-->(yl)'\n",
    "      --return 'xl as xlabel, yl as ylabel, kvec_cos_sim(xv, yv) as sim'\n",
    "     \"\"\")"
   ]
  },
  {
   "cell_type": "markdown",
   "id": "614f775c-0771-4cf0-b73e-6491e64bf776",
   "metadata": {},
   "source": [
    "In the examples below, we use image similarity to link QNodes in Wikidata.  We\n",
    "use the precomputed `IMAGE` graph cache (see above) which contains embeddings\n",
    "for about 2.7M images linked to their respective Wikipedia pages and Wikidata\n",
    "QNodes.  "
   ]
  },
  {
   "cell_type": "markdown",
   "id": "b97a9e65-80cf-42b8-a9ec-986b288743e2",
   "metadata": {},
   "source": [
    "We start with a QNode (such a the one for Barack Obama below), find one or more\n",
    "images associated with that QNode, look up their image embeddings and then find\n",
    "other similar images and their associated QNodes."
   ]
  },
  {
   "cell_type": "markdown",
   "id": "0ad5fedc-efe9-4d50-8039-af6ffcf7d43b",
   "metadata": {},
   "source": [
    "We do not compute any image embeddings on the fly here, we simply link nodes based\n",
    "on similarity of images they are associated with.  Note that this will often not\n",
    "preserve the type of the source node as can be seen in the result for Barack Obama.\n",
    "To enforce such type or other restrictions additional clauses can be added.\n",
    "Since there are multiple images associated with Barack Obama, we use a `not exists`\n",
    "clause to only look at the first one to make the results less cluttered:\n",
    "\n",
    "Sponge Bob Square Pants:"
   ]
  },
  {
   "cell_type": "code",
   "execution_count": 16,
   "id": "0226375b-fb70-4437-890c-b3a92b37918d",
   "metadata": {},
   "outputs": [
    {
     "data": {
      "text/html": [
       "<!DOCTYPE html><html lang=\"en\"><head><meta charset=\"utf-8\"><style>table, th, td {border: 1px solid black;border-collapse: collapse;}</style></head><body><table><tr><th>qnode</th><th>label</th><th>sim</th><th>image</th></tr><tr><td>Q83279</td><td>&#x27;SpongeBob SquarePants&#x27;@en</td><td>1</td><td style=\"width:200px;vertical-align:top\"><img \" src=\"https://upload.wikimedia.org/wikipedia/commons/9/91/Leon_hot_air_balloon_festival_2010.jpg\"/></td></tr><tr><td>Q498881</td><td>&#x27;2013 Asian Indoor-Martial Arts Games&#x27;@en</td><td>0.73503</td><td style=\"width:200px;vertical-align:top\"><img \" src=\"https://upload.wikimedia.org/wikipedia/commons/b/b3/2014_Asian_Games_6.jpg\"/></td></tr><tr><td>Q183951</td><td>&#x27;balloon&#x27;@en</td><td>0.70113</td><td style=\"width:200px;vertical-align:top\"><img \" src=\"https://upload.wikimedia.org/wikipedia/commons/d/d7/GasballoonsABQ.jpg\"/></td></tr><tr><td>Q7228285</td><td>&#x27;Pontiki&#x27;@en</td><td>0.69247</td><td style=\"width:200px;vertical-align:top\"><img \" src=\"https://upload.wikimedia.org/wikipedia/commons/2/23/Pontiki.jpg\"/></td></tr><tr><td>Q2086354</td><td>&#x27;Marsden&#x27;@en</td><td>0.68826</td><td style=\"width:200px;vertical-align:top\"><img \" src=\"https://upload.wikimedia.org/wikipedia/commons/1/1b/Marsden_Grain_Elevator.JPG\"/></td></tr><tr><td>Q6537417</td><td>&#x27;Lewiston–Auburn&#x27;@en</td><td>0.6881</td><td style=\"width:200px;vertical-align:top\"><img \" src=\"https://upload.wikimedia.org/wikipedia/commons/1/18/LA_Balloons_06.jpg\"/></td></tr><tr><td>Q10939861</td><td>&#x27;Tianshui Railway Station&#x27;@en</td><td>0.68097</td><td style=\"width:200px;vertical-align:top\"><img \" src=\"https://upload.wikimedia.org/wikipedia/commons/9/95/%E7%81%AB%E8%BD%A6%E7%AB%99%E5%B9%BF%E5%9C%BA_-_panoramio_%281%29.jpg\"/></td></tr><tr><td>Q4240381</td><td>&#x27;Russian church architecture&#x27;@en</td><td>0.678</td><td style=\"width:200px;vertical-align:top\"><img \" src=\"https://upload.wikimedia.org/wikipedia/commons/c/c0/TSL12.jpg\"/></td></tr><tr><td>Q749387</td><td>&#x27;paratrooper&#x27;@en</td><td>0.67306</td><td style=\"width:200px;vertical-align:top\"><img \" src=\"https://upload.wikimedia.org/wikipedia/commons/4/4a/U.S._Army%2C_British_and_Italian_paratroopers_Pordenone%2C_Italy_191203-A-JM436-0590C.jpg\"/></td></tr><tr><td>Q34804</td><td>&#x27;Albuquerque&#x27;@en</td><td>0.666</td><td style=\"width:200px;vertical-align:top\"><img \" src=\"https://upload.wikimedia.org/wikipedia/commons/9/90/ABQ_Balloon_Fiesta.jpg\"/></td></tr></table></body></html>"
      ],
      "text/plain": [
       "<IPython.core.display.HTML object>"
      ]
     },
     "metadata": {},
     "output_type": "display_data"
    }
   ],
   "source": [
    "out = !kgtk query --gc $IMAGE \\\n",
    "      -i wiki_image -i \"wikidata/labels.en.tsv.gz\" \\\n",
    "      --match 'image:  (ximg)-[rx {qnode: $SEED}]->(xiv), \\\n",
    "                       (xiv)-[r:kvec_topk_cos_sim {k: 10, nprobe: 8}]->(yimg), \\\n",
    "                       (yimg)-[ry {qnode: y}]->(), \\\n",
    "               labels: (y)-->(ylabel)' \\\n",
    "      --where 'not exists {image: (ximg2)-[{qnode: $SEED}]->() WHERE rowid(ximg2) < rowid(ximg) }' \\\n",
    "      --return 'y as qnode, ylabel as label, printf(\"%.5g\", r.similarity) as sim, yimg as image' \\\n",
    "      --para  SEED=Q83279 \\\n",
    "    / html\n",
    "\n",
    "show_html(img_width=200)"
   ]
  },
  {
   "cell_type": "markdown",
   "id": "4f355ba3-bbbe-43d9-943b-46fcb7fb02b5",
   "metadata": {},
   "source": [
    "To get more type appropriate matches, we can add a restriction to only return matches of\n",
    "type animated series (`Q581714`):"
   ]
  },
  {
   "cell_type": "code",
   "execution_count": null,
   "id": "cf398a33-7bb0-4f68-84de-c51cb752e74d",
   "metadata": {},
   "outputs": [],
   "source": [
    "out = !kgtk query --gc $IMAGE --ac $MAIN \\\n",
    "      -i wiki_image -i labels -i claims \\\n",
    "      --match 'image:  (ximg)-[rx {qnode: $SEED}]->(xiv), \\\n",
    "                       (xiv)-[r:kvec_topk_cos_sim {k: 10, maxk: 1024, nprobe: 8}]->(yimg), \\\n",
    "                       (yimg)-[ry {qnode: y}]->(), \\\n",
    "               claims: (y)-[:P31]->(:Q581714), \\\n",
    "               labels: (y)-->(ylabel)' \\\n",
    "      --where 'not exists {image: (ximg2)-[{qnode: $SEED}]->() WHERE rowid(ximg2) < rowid(ximg) }' \\\n",
    "      --return 'y as qnode, ylabel as label, printf(\"%.5g\", r.similarity) as sim, yimg as image' \\\n",
    "      --para  SEED=Q83279 \\\n",
    "    / html\n",
    "\n",
    "show_html(img_width=200)"
   ]
  },
  {
   "cell_type": "markdown",
   "id": "ce94c79b-5e89-4870-9624-8af7a8ed3336",
   "metadata": {},
   "source": [
    "To get more type appropriate matches, we can add a restriction to only return matches of\n",
    "type Internet Meme (`Q2927074`):"
   ]
  },
  {
   "cell_type": "code",
   "execution_count": null,
   "id": "ae191a9e-396b-4683-b5a8-91eab79c4836",
   "metadata": {},
   "outputs": [],
   "source": [
    "out = !kgtk query --gc $IMAGE  --ac $MAIN \\\n",
    "      -i wiki_image -i labels -i claims \\\n",
    "      --match 'image:  (ximg)-[rx {qnode: $SEED}]->(xiv), \\\n",
    "                       (xiv)-[r:kvec_topk_cos_sim {k: 10, maxk: 1024, nprobe: 8}]->(yimg), \\\n",
    "                       (yimg)-[ry {qnode: y}]->(), \\\n",
    "               claims: (y)-[:P31]->(:Q2927074), \\\n",
    "               labels: (y)-->(ylabel)' \\\n",
    "      --where 'not exists {image: (ximg2)-[{qnode: $SEED}]->() WHERE rowid(ximg2) < rowid(ximg) }' \\\n",
    "      --return 'y as qnode, ylabel as label, printf(\"%.5g\", r.similarity) as sim, yimg as image' \\\n",
    "      --para  SEED=Q83279 \\\n",
    "    / html\n",
    "\n",
    "show_html(img_width=200)"
   ]
  },
  {
   "cell_type": "markdown",
   "id": "67269f6a-2809-4130-9999-d4cd94cebb8e",
   "metadata": {},
   "source": [
    "Let's get most similar entities according to the abstract embeddings:"
   ]
  },
  {
   "cell_type": "code",
   "execution_count": 39,
   "id": "40673902-b116-4c85-88c9-3f3b39940fb0",
   "metadata": {},
   "outputs": [
    {
     "name": "stdout",
     "output_type": "stream",
     "text": [
      "^C\n"
     ]
    },
    {
     "data": {
      "text/html": [],
      "text/plain": [
       "<IPython.core.display.HTML object>"
      ]
     },
     "metadata": {},
     "output_type": "display_data"
    }
   ],
   "source": [
    "out = !kgtk query --gc $MAIN --ac $ABSTRACT \\\n",
    "      -i abstract -i labels -i sentence \\\n",
    "      --match 'abstract: (x)-->(xv), \\\n",
    "                         (xv)-[r:kvec_topk_cos_sim {k: 10, maxk: 1024, nprobe: 8}]->(y), \\\n",
    "               labels:   (x)-->(xl), (y)-->(yl), \\\n",
    "               sent:     (y)-->(ys)' \\\n",
    "      --where 'x in [\"Q40\", \"Q41\", \"Q30\"]' \\\n",
    "      --return 'xl as xlabel, yl as ylabel, r.similarity as sim, kgtk_lqstring_text(ys) as ysent' \\\n",
    "    / html\n",
    "\n",
    "show_html()"
   ]
  },
  {
   "cell_type": "code",
   "execution_count": null,
   "id": "34928918-c95f-4f97-8b5d-e62917d5c24a",
   "metadata": {},
   "outputs": [],
   "source": []
  }
 ],
 "metadata": {
  "kernelspec": {
   "display_name": "Python 3 (ipykernel)",
   "language": "python",
   "name": "python3"
  },
  "language_info": {
   "codemirror_mode": {
    "name": "ipython",
    "version": 3
   },
   "file_extension": ".py",
   "mimetype": "text/x-python",
   "name": "python",
   "nbconvert_exporter": "python",
   "pygments_lexer": "ipython3",
   "version": "3.9.16"
  }
 },
 "nbformat": 4,
 "nbformat_minor": 5
}

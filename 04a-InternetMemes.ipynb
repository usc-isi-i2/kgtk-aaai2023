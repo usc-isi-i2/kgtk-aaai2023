{
 "cells": [
  {
   "cell_type": "markdown",
   "id": "58fb833f-8691-41b9-9e9c-d82618cc7e6b",
   "metadata": {},
   "source": [
    "# Internet Memes: Knowledge connects culture and creativity\n",
    "\n",
    "This notebook shows how KGTK supports the enrichment and analytics of an Internet Meme Knowledge Graph (IMKG).\n",
    "\n",
    "We highlight how KGTK facilitates:\n",
    "\n",
    "1. **Knowledge Engineers** to connect the dots between entities in in-house resources based on the large-scale KG, Wikidata\n",
    "2. **Data Scientists** to perform scalable analytics and visualization of the resulting IMKG\n",
    "3. **Knowledge Explorers** to use a customized browser to understand the contents of IMKG"
   ]
  },
  {
   "cell_type": "markdown",
   "id": "4420642a-2ee9-467c-b4b5-252f5a506331",
   "metadata": {},
   "source": [
    "## Step 0: Setup\n"
   ]
  },
  {
   "cell_type": "markdown",
   "id": "2b9c4b5c-927e-4102-8eca-df2a8fea701a",
   "metadata": {},
   "source": [
    "### Notebook data setup"
   ]
  },
  {
   "cell_type": "code",
   "execution_count": 54,
   "id": "4b0f539e-e756-4560-a00f-4ddaa24b6345",
   "metadata": {},
   "outputs": [],
   "source": [
    "import os\n",
    "import os.path\n",
    "\n",
    "from kgtk.configure_kgtk_notebooks import ConfigureKGTK\n",
    "from kgtk.functions import kgtk"
   ]
  },
  {
   "cell_type": "code",
   "execution_count": 55,
   "id": "1bbb44f1-e8b4-476d-a7ca-c654ce237c07",
   "metadata": {},
   "outputs": [],
   "source": [
    "# Parameters\n",
    "\n",
    "# Folders on local machine where to create the output and temporary files:\n",
    "input_path = \"wikidata\"\n",
    "output_path = \"projects\"\n",
    "project_name = \"memes\""
   ]
  },
  {
   "cell_type": "code",
   "execution_count": 56,
   "id": "181270c3-4086-4ab2-8b18-bd98cfdec9f7",
   "metadata": {},
   "outputs": [
    {
     "name": "stdout",
     "output_type": "stream",
     "text": [
      "User home: /Users/filipilievski\n",
      "Current dir: /Users/filipilievski/mcs/kgtk-tutorial-aaai23\n",
      "KGTK dir: /Users/filipilievski/mcs\n",
      "Use-cases dir: /Users/filipilievski/mcs/use-cases\n"
     ]
    }
   ],
   "source": [
    "# These are all the KG files that we use in this notebook:\n",
    "additional_files = {\n",
    "    \"items\": \"claims.wikibase-item.tsv.gz\",\n",
    "}\n",
    "\n",
    "big_files = [\n",
    "    \"label\",\n",
    "]\n",
    "\n",
    "ck = ConfigureKGTK(big_files)\n",
    "ck.configure_kgtk(input_graph_path=input_path, \n",
    "                  output_path=output_path, \n",
    "                  project_name=project_name,\n",
    "                  additional_files=additional_files)"
   ]
  },
  {
   "cell_type": "code",
   "execution_count": 57,
   "id": "f0edf8f5-9352-4338-bece-4c5d2bac9206",
   "metadata": {},
   "outputs": [
    {
     "name": "stdout",
     "output_type": "stream",
     "text": [
      "STORE: projects/memes/temp.memes/wikidata.sqlite3.db\n",
      "TEMP: projects/memes/temp.memes\n",
      "KGTK_OPTION_DEBUG: false\n",
      "OUT: projects/memes\n",
      "USE_CASES_DIR: /Users/filipilievski/mcs/use-cases\n",
      "KGTK_LABEL_FILE: wikidata/labels.en.tsv.gz\n",
      "GRAPH: wikidata\n",
      "kgtk: kgtk\n",
      "kypher: kgtk query --graph-cache projects/memes/temp.memes/wikidata.sqlite3.db\n",
      "EXAMPLES_DIR: /Users/filipilievski/mcs/examples\n",
      "KGTK_GRAPH_CACHE: projects/memes/temp.memes/wikidata.sqlite3.db\n",
      "label: wikidata/labels.en.tsv.gz\n",
      "items: wikidata/claims.wikibase-item.tsv.gz\n"
     ]
    }
   ],
   "source": [
    "ck.print_env_variables()"
   ]
  },
  {
   "cell_type": "markdown",
   "id": "cf6da40f-0ca9-476d-9f0b-d2413249b421",
   "metadata": {},
   "source": [
    "## Step 1: Enrichment of knowledge with Wikidata"
   ]
  },
  {
   "cell_type": "markdown",
   "id": "709fdcc2-a09e-417b-8069-18b19b93b870",
   "metadata": {},
   "source": [
    "Let's see how much information Wikidata has about Internet Memes:"
   ]
  },
  {
   "cell_type": "code",
   "execution_count": 13,
   "id": "a06986ea-f33b-4e56-bc96-bd9c58019fff",
   "metadata": {},
   "outputs": [
    {
     "name": "stdout",
     "output_type": "stream",
     "text": [
      "id\tnode1\tlabel\tnode2\tlang\trank\tnode2;wikidatatype\n",
      "Q100270830-P31-Q2927074-6ea94891-0\tQ100270830\tP31\tQ2927074\t\tnormal\twikibase-item\n",
      "Q100324361-P31-Q2927074-b0d999a2-0\tQ100324361\tP31\tQ2927074\t\tnormal\twikibase-item\n",
      "Q104005472-P31-Q2927074-89740183-0\tQ104005472\tP31\tQ2927074\t\tnormal\twikibase-item\n",
      "Q104631975-P31-Q2927074-18555c03-0\tQ104631975\tP31\tQ2927074\t\tnormal\twikibase-item\n",
      "Q104713251-P31-Q2927074-247b7c6d-0\tQ104713251\tP31\tQ2927074\t\tnormal\twikibase-item\n"
     ]
    }
   ],
   "source": [
    "!kgtk query -i $items \\\n",
    "    --match '()-[:P31]->(:Q2927074)' \\\n",
    "    --limit 5"
   ]
  },
  {
   "cell_type": "markdown",
   "id": "d0723a50-43bc-4e03-936c-3764bd2fd914",
   "metadata": {},
   "source": [
    "So Wikidata has ? Internet Meme instances. Let's see how many of them have links to KnowYourMeme in Wikidata:"
   ]
  },
  {
   "cell_type": "code",
   "execution_count": null,
   "id": "4fb9adbd-69e5-4719-9b7e-662bb8bd4e7e",
   "metadata": {},
   "outputs": [],
   "source": [
    "!kgtk query -i $items \\\n",
    "    --match '(im)-[:P31]->(:Q2927074), \\\n",
    "             (im)-[:P6760]->(imkym)' \\\n",
    "    --limit 5"
   ]
  },
  {
   "cell_type": "markdown",
   "id": "92a6ad94-f9b4-45c0-9285-31894fe3a845",
   "metadata": {},
   "source": [
    "Let's now connect our in-house KG with Wikidata through these memes:"
   ]
  },
  {
   "cell_type": "code",
   "execution_count": null,
   "id": "4e7ab979-c485-4ed6-a4a5-99dd2727ef20",
   "metadata": {},
   "outputs": [],
   "source": []
  },
  {
   "cell_type": "markdown",
   "id": "c6b45fc3-a287-45cc-9ba9-3b302e47c521",
   "metadata": {},
   "source": [
    "How many triples we have about these memes in either of the sources:"
   ]
  },
  {
   "cell_type": "code",
   "execution_count": null,
   "id": "e6e814d0-c659-4c8e-b826-ac4d1ca4069c",
   "metadata": {},
   "outputs": [],
   "source": [
    "!kgtk query -i $items \\\n",
    "    --match '(im)-[:P31]->(:Q2927074), \\\n",
    "             (im)-[r]->()' \\\n",
    "    --limit 5"
   ]
  },
  {
   "cell_type": "markdown",
   "id": "ccc1a605-92d3-4465-b428-0b5bcbe9eeb6",
   "metadata": {},
   "source": [
    "Finally, we have extracted entities in memes already based on information extraction. Let's use that to get background information about these entities from Wikidata:"
   ]
  },
  {
   "cell_type": "code",
   "execution_count": null,
   "id": "8c4034d6-46bf-448f-9462-022ecbfc117e",
   "metadata": {},
   "outputs": [],
   "source": [
    "!kgtk query -i $TEMP/combined_with_wd.kgtk.gz \\\n",
    "    --match '(x)-->(y)' \\\n",
    "     --return 'x as node1, \"member\" as label, \"set1\" as node2, y as node1, \"member\" as label, \"set1\" as node2' \\\n",
    "     --multi 2 \\\n",
    "     / deduplicate / add-id / \\\n",
    "     query -i - --as gnodes --idx mode:valuegraph -i $items --idx mode:graph \\\n",
    "     --match 'item:  (x)-[r]->(y), \\\n",
    "              gnodes: (x)-->(), \\\n",
    "                      (y)-->()' \\\n",
    "    --return 'distinct x, r.label, y' \\\n",
    "    -o $TEMP/wikidata_ent.kgtk.gz"
   ]
  },
  {
   "cell_type": "markdown",
   "id": "c6f553f8-4b9e-4c00-bb6e-7fc623af2fd1",
   "metadata": {},
   "source": [
    "To make the output more readable, we enhance it with entity labels from Wikidata:"
   ]
  },
  {
   "cell_type": "markdown",
   "id": "e11d4f88-9de6-4dd3-b9fe-a3f13b36fe75",
   "metadata": {},
   "source": [
    "## 2. Scalable analytics and visualization"
   ]
  },
  {
   "cell_type": "markdown",
   "id": "3727ee54-3b85-431b-8640-3a5054117699",
   "metadata": {},
   "source": [
    "### 2a. Compute global statistics"
   ]
  },
  {
   "cell_type": "code",
   "execution_count": 29,
   "id": "a945c9d8-330b-4ea0-954e-63aa16f48a1c",
   "metadata": {},
   "outputs": [
    {
     "name": "stdout",
     "output_type": "stream",
     "text": [
      "objc[28246]: Class GNotificationCenterDelegate is implemented in both /Users/filipilievski/opt/anaconda3/envs/kgtk23/lib/libgio-2.0.0.dylib (0x198317c30) and /usr/local/Cellar/glib/2.72.2/lib/libgio-2.0.0.dylib (0x1aecb86b0). One of the two will be used. Which one is undefined.\n"
     ]
    }
   ],
   "source": [
    "!kgtk graph-statistics \\\n",
    "     -i $TEMP/imkg.kgtk.gz \\\n",
    "     --log-file $TEMP/imkg_summary.txt \\\n",
    "     --output-statistics-only \\\n",
    "     -o $TEMP/imkg_stats.tsv"
   ]
  },
  {
   "cell_type": "code",
   "execution_count": 30,
   "id": "af3fb40c-8661-4cfd-b898-c0177160bd79",
   "metadata": {},
   "outputs": [
    {
     "name": "stdout",
     "output_type": "stream",
     "text": [
      "graph loaded! It has 4850636 nodes and 16549810 edges\n",
      "\n",
      "*** Top relations:\n",
      "m4s:fromCaption\t3344941\n",
      "imgflipr:alt_text\t1326032\n",
      "imgflipr:image_url\t1326032\n",
      "imgflipr:template\t1326032\n",
      "imgflipr:templateId\t1326032\n",
      "imgflipr:template_title\t1326032\n",
      "imgflipr:upvote_count\t1326032\n",
      "imgflipr:view_count\t1326032\n",
      "imgflipr:title\t1326021\n",
      "imgflipr:author\t1176414\n",
      "\n",
      "*** Degrees:\n",
      "in degree stats: mean=3.411885, std=0.202183, max=1\n",
      "out degree stats: mean=3.411885, std=0.003003, max=1\n",
      "total degree stats: mean=6.823769, std=0.202210, max=1\n",
      "\n",
      "*** PageRank\n",
      "Max pageranks\n",
      "1895\tQ2927074\t0.006458\n",
      "43756\tQ978\t0.006304\n",
      "7339\tQ336\t0.003967\n",
      "23\tQ30\t0.003257\n",
      "678\tQ11862829\t0.002837\n",
      "\n",
      "*** HITS\n",
      "HITS hubs\n",
      "1895\tQ2927074\t0.806012\n",
      "43756\tQ978\t0.274611\n",
      "86178\tnan\t0.259774\n",
      "86169\t1\t0.245116\n",
      "86229\t2\t0.155478\n",
      "HITS auth\n",
      "4716157\tkym:memeing\t0.002565\n",
      "4752934\tkym:expression-memes\t0.002512\n",
      "4724355\tkym:nice-meme\t0.002505\n",
      "4715463\tkym:1\t0.002497\n",
      "4827988\tkym:x-shuts-up-the-queen-of-hearts\t0.002493\n"
     ]
    }
   ],
   "source": [
    "!cat $TEMP/imkg_summary.txt"
   ]
  },
  {
   "cell_type": "markdown",
   "id": "d1be6384-966e-44db-9444-d585c5df95e3",
   "metadata": {},
   "source": [
    "Show the most common 20 relations:"
   ]
  },
  {
   "cell_type": "code",
   "execution_count": 31,
   "id": "00fb3a00-ce05-4b76-be2e-ca65a671b7fe",
   "metadata": {},
   "outputs": [
    {
     "name": "stdout",
     "output_type": "stream",
     "text": [
      "label\tc\n",
      "m4s:fromCaption\t3344941\n",
      "imgflipr:view_count\t1326032\n",
      "imgflipr:upvote_count\t1326032\n",
      "imgflipr:template_title\t1326032\n",
      "imgflipr:templateId\t1326032\n",
      "imgflipr:template\t1326032\n",
      "imgflipr:image_url\t1326032\n",
      "imgflipr:alt_text\t1326032\n",
      "imgflipr:title\t1326021\n",
      "imgflipr:author\t1176414\n",
      "m4s:fromImage\t388579\n",
      "rdfs:seeAlso\t196594\n",
      "m4s:tag\t73951\n",
      "P31\t58153\n",
      "m4s:fromAbout\t47455\n",
      "P136\t33657\n",
      "m4s:structured_value\t30440\n",
      "m4s:structured_uri\t30440\n",
      "rdf:type\t28939\n",
      "P106\t27605\n"
     ]
    }
   ],
   "source": [
    "!kgtk query -i $TEMP/imkg.kgtk.gz \\\n",
    "    --match '()-[r]->()' \\\n",
    "    --return 'r.label, count(r.label) as c' \\\n",
    "    --order-by 'c desc' \\\n",
    "    --limit 20"
   ]
  },
  {
   "cell_type": "markdown",
   "id": "f79b783a-b194-490f-a130-56c855519b61",
   "metadata": {},
   "source": [
    "Show the most frequent 10 entities from captions:"
   ]
  },
  {
   "cell_type": "code",
   "execution_count": 32,
   "id": "cd4d0cb0-890a-4b25-b4c4-172bb8322881",
   "metadata": {},
   "outputs": [
    {
     "name": "stdout",
     "output_type": "stream",
     "text": [
      "node2\tkgtk_lqstring_text_string(graph_2_c2.\"node2\")\tc\n",
      "Q2927074\t\"Internet meme\"\t641428\n",
      "Q978\t\"meme\"\t464579\n",
      "Q11661\t\"information technology\"\t75104\n",
      "Q44359\t\"bling-bling\"\t34331\n",
      "Q2695156\t\"Batman\"\t30132\n",
      "Q728183\t\"CAN bus\"\t27661\n",
      "Q492038\t\"human brain\"\t26777\n",
      "Q20992398\t\"Hotline Bling\"\t20873\n",
      "Q1107971\t\"Kermit the Frog\"\t18217\n",
      "Q1967556\t\"National Organization for Women\"\t17974\n"
     ]
    }
   ],
   "source": [
    "!kgtk query -i $TEMP/imkg.kgtk.gz -i $label \\\n",
    "    --match 'imkg: ()-[:`m4s:fromCaption`]->(n), \\\n",
    "            label: (n)-[]->(lbl)' \\\n",
    "    --return 'n, kgtk_lqstring_text_string(lbl), count(n) as c' \\\n",
    "    --order-by 'c desc' \\\n",
    "    --limit 10"
   ]
  },
  {
   "cell_type": "markdown",
   "id": "a7e0eb29-ae1b-4415-9351-416751dec3ff",
   "metadata": {},
   "source": [
    "Show the most frequent 10 entities from About:"
   ]
  },
  {
   "cell_type": "code",
   "execution_count": 33,
   "id": "527f0614-de26-4f57-a564-df35f6fd959e",
   "metadata": {},
   "outputs": [
    {
     "name": "stdout",
     "output_type": "stream",
     "text": [
      "node2\tkgtk_lqstring_text_string(graph_2_c2.\"node2\")\tc\n",
      "Q6002242\t\"image macro\"\t1122\n",
      "Q238330\t\"4chan\"\t902\n",
      "Q2927074\t\"Internet meme\"\t833\n",
      "Q2708515\t\"catchphrase\"\t650\n",
      "Q866\t\"YouTube\"\t573\n",
      "Q170539\t\"parody\"\t501\n",
      "Q5287\t\"Japanese\"\t455\n",
      "Q384060\t\"Tumblr\"\t426\n",
      "Q978\t\"meme\"\t403\n",
      "Q30\t\"United States of America\"\t373\n"
     ]
    }
   ],
   "source": [
    "!kgtk query -i $TEMP/imkg.kgtk.gz -i $label \\\n",
    "    --match 'imkg: ()-[:`m4s:fromAbout`]->(n), \\\n",
    "            label: (n)-[]->(lbl)' \\\n",
    "    --return 'n, kgtk_lqstring_text_string(lbl), count(n) as c' \\\n",
    "    --order-by 'c desc' \\\n",
    "    --limit 10"
   ]
  },
  {
   "cell_type": "markdown",
   "id": "4e12ce75-d29c-491a-898c-ac80821e7f63",
   "metadata": {},
   "source": [
    "### 2b. Queries for interesting use cases"
   ]
  },
  {
   "cell_type": "markdown",
   "id": "4d6dd9ef-95a2-4fbd-8b7d-16da0dce191e",
   "metadata": {},
   "source": [
    "**Example: What are the most memable people in Wikidata?**"
   ]
  },
  {
   "cell_type": "code",
   "execution_count": 59,
   "id": "5a9fda20-a360-4340-bf63-2c3d4989cf04",
   "metadata": {},
   "outputs": [
    {
     "name": "stdout",
     "output_type": "stream",
     "text": [
      "node2\tc\n",
      "'Donald Trump'@en\t145\n",
      "'Kyle Craven'@en\t72\n",
      "'Kanye West'@en\t56\n"
     ]
    }
   ],
   "source": [
    "!kgtk query -i $TEMP/imkg.kgtk.gz -i \"wikidata/labels.en.tsv.gz\"\\\n",
    "    --match 'imkg: (h)-[]->(person),\\\n",
    "            (h)-[:`rdf:type`]->(:`kym:Meme`),\\\n",
    "            (person)-[:P31]->(:Q5), \\\n",
    "            labels: (person)-->(pname)' \\\n",
    "    --return 'pname, count(h) as c' \\\n",
    "    --order-by 'c desc' \\\n",
    "    --limit 3"
   ]
  },
  {
   "cell_type": "markdown",
   "id": "ebef7bf3-60f2-4788-b5f2-ac9b4c23ee56",
   "metadata": {},
   "source": [
    "**Example: memes that are based on films?**"
   ]
  },
  {
   "cell_type": "code",
   "execution_count": 43,
   "id": "c03ed379-192c-4693-a1ed-1f6316da84b5",
   "metadata": {},
   "outputs": [
    {
     "name": "stdout",
     "output_type": "stream",
     "text": [
      "count(DISTINCT graph_1_c1.\"node1\")\n",
      "413\n"
     ]
    }
   ],
   "source": [
    "!kgtk query -i $TEMP/imkg.kgtk.gz \\\n",
    "    --match '(h)-[:`m4s:fromAbout`]->(t),\\\n",
    "             (t)-[:P31]->(:Q11424)' \\\n",
    "    --return 'count (distinct h)' \\\n",
    "    --limit 10"
   ]
  },
  {
   "cell_type": "markdown",
   "id": "6eaf40ba-4e28-4fd8-929c-a531dce07e82",
   "metadata": {},
   "source": [
    "Show me some instances of memes with their movies:"
   ]
  },
  {
   "cell_type": "code",
   "execution_count": 48,
   "id": "db481ba5-c4a2-4dbd-abf5-414ac9a99a56",
   "metadata": {},
   "outputs": [
    {
     "name": "stdout",
     "output_type": "stream",
     "text": [
      "node1\tnode2\n",
      "kym:dark-knight-4-pane\t'The Conversation'@en\n",
      "kym:candy\t'Candyman'@en\n",
      "kym:confused-travolta\t'Pulp Fiction'@en\n",
      "kym:say-what-again\t'Pulp Fiction'@en\n",
      "kym:majiresu\t'Unforgiven'@en\n",
      "kym:i-believe-you-have-my-stapler\t'Office Space'@en\n",
      "kym:that-would-be-great\t'Office Space'@en\n",
      "kym:livetweeting\t'Overheard'@en\n",
      "kym:yngwie-malmsteen-unleashes-the-fucking-fury\t'Overheard'@en\n",
      "kym:alan-rickman-is-now-diamonds\t'Die Hard'@en\n"
     ]
    }
   ],
   "source": [
    "!kgtk query -i $TEMP/imkg.kgtk.gz -i \"wikidata/labels.en.tsv.gz\" \\\n",
    "    --match 'imkg: (h)-[:`m4s:fromAbout`]->(t),\\\n",
    "             (t)-[:P31]->(:Q11424), \\\n",
    "             labels: (t)-->(tname)' \\\n",
    "    --return 'h, tname' \\\n",
    "    --limit 10"
   ]
  },
  {
   "cell_type": "markdown",
   "id": "25dd1b83-2155-4669-b39c-4a325630090d",
   "metadata": {},
   "source": [
    "**Example: how many memes depict the entity Q83279 (\"SpongeBob SquarePants\")**"
   ]
  },
  {
   "cell_type": "code",
   "execution_count": 44,
   "id": "68e3d7e7-f255-41bc-98b5-896e3b01ec2a",
   "metadata": {},
   "outputs": [
    {
     "name": "stdout",
     "output_type": "stream",
     "text": [
      "count(DISTINCT graph_1_c1.\"node1\")\n",
      "130\n"
     ]
    }
   ],
   "source": [
    "!kgtk query -i $TEMP/imkg.kgtk.gz \\\n",
    "    --match '(h)-[:`m4s:fromImage`]->(:Q83279),\\\n",
    "            (h)-[:`rdf:type`]->(:`kym:Meme`)' \\\n",
    "    --return 'count(distinct h)'"
   ]
  },
  {
   "cell_type": "markdown",
   "id": "2a23e3c4-1b7f-482c-8955-f4b6bd4374fa",
   "metadata": {},
   "source": [
    "Show me some examples of Spongebob memes:"
   ]
  },
  {
   "cell_type": "code",
   "execution_count": 52,
   "id": "66cec27d-ea8e-4d26-8333-4eea0d899d67",
   "metadata": {},
   "outputs": [
    {
     "name": "stdout",
     "output_type": "stream",
     "text": [
      "node1\n",
      "kym:a-day-with-spongebob-squarepants-the-movie\n",
      "kym:advanced-darkness\n",
      "kym:allen\n",
      "kym:are-there-any-other-squidwards-i-should-know-about\n",
      "kym:are-you-feeling-it-now-mr-krabs\n",
      "kym:at-night\n",
      "kym:berto-bragaqvadra\n",
      "kym:big-meaty-claws\n",
      "kym:bitch-im-flawless\n",
      "kym:bodyguard-legit\n",
      "kym:bold-and-brash\n",
      "kym:breath-in-boi\n",
      "kym:campfire-song-song\n",
      "kym:chinese-cartoons\n",
      "kym:chocolate\n",
      "kym:confused-mr-krabs\n",
      "kym:could-you-play-that-song-again\n",
      "kym:derp-sandy\n",
      "kym:deuueaugh\n",
      "kym:dont-say-youre-a-fan-if-you-dont-know-who-this-is\n",
      "kym:doodlebob\n",
      "kym:empty-page\n",
      "kym:evil\n",
      "kym:fake-history\n",
      "kym:fooby-the-kamikaze-watermelon\n",
      "kym:fuck-logic\n",
      "kym:fun-song\n",
      "kym:garys-song-gary-come-home\n",
      "kym:get-a-job-soup\n",
      "kym:giant-paper\n"
     ]
    }
   ],
   "source": [
    "!kgtk query -i $TEMP/imkg.kgtk.gz \\\n",
    "    --match '(h)-[:`m4s:fromImage`]->(:Q83279),\\\n",
    "            (h)-[:`rdf:type`]->(:`kym:Meme`)' \\\n",
    "    --return 'distinct h' \\\n",
    "    --limit 30"
   ]
  },
  {
   "cell_type": "markdown",
   "id": "a11c551d-4606-4206-b8e9-3a1d8f74d802",
   "metadata": {},
   "source": [
    "### 2c. Visualize memes about Spongebob"
   ]
  },
  {
   "cell_type": "markdown",
   "id": "a4dd6dea-66eb-45ee-bcb4-9a9d8b513c91",
   "metadata": {},
   "source": [
    "Let's visualize the knowledge graph connections between memes that depict Spongebob"
   ]
  },
  {
   "cell_type": "code",
   "execution_count": 35,
   "id": "20a5d5f9-3aa8-4d3e-abbf-5d881ef62f3a",
   "metadata": {},
   "outputs": [],
   "source": [
    "!kgtk query -i $TEMP/imkg.kgtk.gz \\\n",
    "    --match '(h)-[:`m4s:fromImage`]->(:Q83279),\\\n",
    "            (h)-[:`rdf:type`]->(:`kym:Meme`),\\\n",
    "            (h)-[r]->(t)' \\\n",
    "    --return 'distinct h,r.label,t' \\\n",
    "    -o $TEMP/sponge.kgtk.gz"
   ]
  },
  {
   "cell_type": "code",
   "execution_count": 41,
   "id": "8815ed06-ca2e-46fe-abcb-254b64b6a5fc",
   "metadata": {},
   "outputs": [],
   "source": [
    "kgtk(\"\"\"visualize-graph \n",
    "        -i $TEMP/sponge.kgtk.gz\n",
    "        -o viz/iflip_kym.graph.html\"\"\")"
   ]
  },
  {
   "cell_type": "code",
   "execution_count": 42,
   "id": "fac479cb-6118-4ccf-b467-99a42aa2d36a",
   "metadata": {},
   "outputs": [],
   "source": [
    "!open viz/iflip_kym.graph.html"
   ]
  },
  {
   "cell_type": "markdown",
   "id": "ee51869c-309a-4cbf-80e1-fef228bafdf5",
   "metadata": {},
   "source": []
  }
 ],
 "metadata": {
  "kernelspec": {
   "display_name": "Python 3 (ipykernel)",
   "language": "python",
   "name": "python3"
  },
  "language_info": {
   "codemirror_mode": {
    "name": "ipython",
    "version": 3
   },
   "file_extension": ".py",
   "mimetype": "text/x-python",
   "name": "python",
   "nbconvert_exporter": "python",
   "pygments_lexer": "ipython3",
   "version": "3.9.16"
  }
 },
 "nbformat": 4,
 "nbformat_minor": 5
}

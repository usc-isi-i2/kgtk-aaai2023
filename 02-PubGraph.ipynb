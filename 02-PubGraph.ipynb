{
 "cells": [
  {
   "cell_type": "markdown",
   "metadata": {},
   "source": [
    "# PubGraph: What should I read next?"
   ]
  },
  {
   "cell_type": "markdown",
   "metadata": {
    "jp-MarkdownHeadingCollapsed": true,
    "tags": []
   },
   "source": [
    "This notebook shows how KGTK supports different tasks built on top of PubGrpah.\n",
    "\n",
    "We highlight how KGTK facilitates:\n",
    "\n",
    "1. Training knowledge graph embeddings to make recommendations\n",
    "2. Identifying communities to find similar papers\n",
    "3. Running PageRank to find influential papers"
   ]
  },
  {
   "cell_type": "code",
   "execution_count": 1,
   "metadata": {},
   "outputs": [],
   "source": [
    "import faiss\n",
    "import numpy as np\n",
    "import pandas as pd\n",
    "from kgtk.functions import kgtk"
   ]
  },
  {
   "cell_type": "code",
   "execution_count": 2,
   "metadata": {},
   "outputs": [],
   "source": [
    "dataset_path = \"./datasets/sample_10k.tsv\"\n",
    "tmp_dir = \"./tmp\""
   ]
  },
  {
   "cell_type": "markdown",
   "metadata": {},
   "source": [
    "## Dataset Statistics"
   ]
  },
  {
   "cell_type": "markdown",
   "metadata": {},
   "source": [
    "Just a count of different entity types that we have:"
   ]
  },
  {
   "cell_type": "code",
   "execution_count": 3,
   "metadata": {},
   "outputs": [
    {
     "name": "stdout",
     "output_type": "stream",
     "text": [
      "CPU times: user 17.4 ms, sys: 11.1 ms, total: 28.5 ms\n",
      "Wall time: 5.27 s\n"
     ]
    },
    {
     "data": {
      "text/html": [
       "<div>\n",
       "<style scoped>\n",
       "    .dataframe tbody tr th:only-of-type {\n",
       "        vertical-align: middle;\n",
       "    }\n",
       "\n",
       "    .dataframe tbody tr th {\n",
       "        vertical-align: top;\n",
       "    }\n",
       "\n",
       "    .dataframe thead th {\n",
       "        text-align: right;\n",
       "    }\n",
       "</style>\n",
       "<table border=\"1\" class=\"dataframe\">\n",
       "  <thead>\n",
       "    <tr style=\"text-align: right;\">\n",
       "      <th></th>\n",
       "      <th>Class</th>\n",
       "      <th>count</th>\n",
       "    </tr>\n",
       "  </thead>\n",
       "  <tbody>\n",
       "    <tr>\n",
       "      <th>0</th>\n",
       "      <td>Q17350442</td>\n",
       "      <td>2834</td>\n",
       "    </tr>\n",
       "    <tr>\n",
       "      <th>1</th>\n",
       "      <td>Q386724</td>\n",
       "      <td>10000</td>\n",
       "    </tr>\n",
       "    <tr>\n",
       "      <th>2</th>\n",
       "      <td>Q5</td>\n",
       "      <td>25694</td>\n",
       "    </tr>\n",
       "  </tbody>\n",
       "</table>\n",
       "</div>"
      ],
      "text/plain": [
       "       Class  count\n",
       "0  Q17350442   2834\n",
       "1    Q386724  10000\n",
       "2         Q5  25694"
      ]
     },
     "execution_count": 3,
     "metadata": {},
     "output_type": "execute_result"
    }
   ],
   "source": [
    "%%time\n",
    "kgtk(f\"query -i {dataset_path} --match '(instance)-[:P31]->(class)' --return 'class as Class, count(class) as count'\")"
   ]
  },
  {
   "cell_type": "markdown",
   "metadata": {
    "tags": []
   },
   "source": [
    "## Training Knowledge Graph Embeddings"
   ]
  },
  {
   "cell_type": "markdown",
   "metadata": {},
   "source": [
    "As the first step we need to filter the links that we want from all the available metadata.\n",
    "For this turtorial we are going to use the following properties:\n",
    "-   P50 (Author)\n",
    "-   P1433 (Venue)\n",
    "-   P2860 (Cites)\n",
    "-   P577 (Publication Date)"
   ]
  },
  {
   "cell_type": "code",
   "execution_count": 4,
   "metadata": {},
   "outputs": [
    {
     "name": "stdout",
     "output_type": "stream",
     "text": [
      "CPU times: user 10.8 ms, sys: 5.36 ms, total: 16.2 ms\n",
      "Wall time: 4.61 s\n"
     ]
    }
   ],
   "source": [
    "%%time\n",
    "kgtk(f\"filter -i {dataset_path} --word-separator '|'  -p '; P50|P1433|P2860 ;' -o {tmp_dir}/filtered_graph.tsv\")"
   ]
  },
  {
   "cell_type": "markdown",
   "metadata": {},
   "source": [
    "We can now calculate the graph embeddings. Here, we use a TransE method with 30 dimension and save the learned representations."
   ]
  },
  {
   "cell_type": "code",
   "execution_count": 5,
   "metadata": {},
   "outputs": [
    {
     "name": "stdout",
     "output_type": "stream",
     "text": [
      "In Processing, Please go to tmp/kgtk_graph_embedding.log to check details\n",
      "Processed Finished.\n",
      "\n",
      "CPU times: user 171 ms, sys: 77.5 ms, total: 248 ms\n",
      "Wall time: 4min 50s\n"
     ]
    }
   ],
   "source": [
    "%%time\n",
    "kgtk(f\"\"\"graph-embeddings\n",
    "    -i {tmp_dir}/final_graph.tsv\n",
    "    --log {tmp_dir}/kgtk_graph_embedding.log\n",
    "    --temporary_directory {tmp_dir}\n",
    "    --output_format kgtk\n",
    "    --retain_temporary_data True\n",
    "    --comparator squared_l2\n",
    "    --operator TransE\n",
    "    --num_epochs 100\n",
    "    --dimension 100\n",
    "    --dynamic_relations False\n",
    "    -o {tmp_dir}/embeddings.tsv\n",
    "    \"\"\")"
   ]
  },
  {
   "cell_type": "markdown",
   "metadata": {},
   "source": [
    "To make recommendations we need to load the embeddings and prepare it to be loaded into a Faiss index."
   ]
  },
  {
   "cell_type": "code",
   "execution_count": 6,
   "metadata": {},
   "outputs": [],
   "source": [
    "embedding_df = pd.read_csv(f\"{tmp_dir}/embeddings.tsv\", sep=\"\\t\")\n",
    "embedding_df = embedding_df[embedding_df[\"node1\"].str.startswith(\"W\")]\n",
    "embedding_df[\"node2\"] = embedding_df[\"node2\"].apply(lambda x: list(map(float, x.split(\",\"))))"
   ]
  },
  {
   "cell_type": "code",
   "execution_count": 7,
   "metadata": {},
   "outputs": [
    {
     "data": {
      "text/html": [
       "<div>\n",
       "<style scoped>\n",
       "    .dataframe tbody tr th:only-of-type {\n",
       "        vertical-align: middle;\n",
       "    }\n",
       "\n",
       "    .dataframe tbody tr th {\n",
       "        vertical-align: top;\n",
       "    }\n",
       "\n",
       "    .dataframe thead th {\n",
       "        text-align: right;\n",
       "    }\n",
       "</style>\n",
       "<table border=\"1\" class=\"dataframe\">\n",
       "  <thead>\n",
       "    <tr style=\"text-align: right;\">\n",
       "      <th></th>\n",
       "      <th>node1</th>\n",
       "      <th>label</th>\n",
       "      <th>node2</th>\n",
       "    </tr>\n",
       "  </thead>\n",
       "  <tbody>\n",
       "    <tr>\n",
       "      <th>0</th>\n",
       "      <td>W1976848519</td>\n",
       "      <td>graph_embeddings</td>\n",
       "      <td>[-0.292098314, -0.513507247, -0.574698508, 0.4...</td>\n",
       "    </tr>\n",
       "    <tr>\n",
       "      <th>9</th>\n",
       "      <td>W2123886363</td>\n",
       "      <td>graph_embeddings</td>\n",
       "      <td>[-0.294932693, -0.777636349, -0.787626445, 0.5...</td>\n",
       "    </tr>\n",
       "    <tr>\n",
       "      <th>11</th>\n",
       "      <td>W2039574702</td>\n",
       "      <td>graph_embeddings</td>\n",
       "      <td>[-0.427890688, -0.709110439, -0.641926527, 0.6...</td>\n",
       "    </tr>\n",
       "    <tr>\n",
       "      <th>12</th>\n",
       "      <td>W2044733003</td>\n",
       "      <td>graph_embeddings</td>\n",
       "      <td>[-0.227729842, -0.558198154, -0.610058725, 0.5...</td>\n",
       "    </tr>\n",
       "    <tr>\n",
       "      <th>15</th>\n",
       "      <td>W2048297434</td>\n",
       "      <td>graph_embeddings</td>\n",
       "      <td>[-0.312093318, -0.658000588, -0.668402135, 0.6...</td>\n",
       "    </tr>\n",
       "  </tbody>\n",
       "</table>\n",
       "</div>"
      ],
      "text/plain": [
       "          node1             label  \\\n",
       "0   W1976848519  graph_embeddings   \n",
       "9   W2123886363  graph_embeddings   \n",
       "11  W2039574702  graph_embeddings   \n",
       "12  W2044733003  graph_embeddings   \n",
       "15  W2048297434  graph_embeddings   \n",
       "\n",
       "                                                node2  \n",
       "0   [-0.292098314, -0.513507247, -0.574698508, 0.4...  \n",
       "9   [-0.294932693, -0.777636349, -0.787626445, 0.5...  \n",
       "11  [-0.427890688, -0.709110439, -0.641926527, 0.6...  \n",
       "12  [-0.227729842, -0.558198154, -0.610058725, 0.5...  \n",
       "15  [-0.312093318, -0.658000588, -0.668402135, 0.6...  "
      ]
     },
     "execution_count": 7,
     "metadata": {},
     "output_type": "execute_result"
    }
   ],
   "source": [
    "embedding_df.head(n=5)"
   ]
  },
  {
   "cell_type": "markdown",
   "metadata": {
    "tags": []
   },
   "source": [
    "Given the embeddings, we create a Faiss index based on euclidean distance and load our learned embeddings into it."
   ]
  },
  {
   "cell_type": "code",
   "execution_count": 8,
   "metadata": {},
   "outputs": [],
   "source": [
    "index = faiss.IndexFlatL2(100)\n",
    "embeddings = np.array(embedding_df[\"node2\"].to_list())\n",
    "index.add(embeddings)"
   ]
  },
  {
   "cell_type": "code",
   "execution_count": 9,
   "metadata": {},
   "outputs": [
    {
     "name": "stdout",
     "output_type": "stream",
     "text": [
      "CPU times: user 113 ms, sys: 41.7 ms, total: 155 ms\n",
      "Wall time: 11.9 s\n"
     ]
    }
   ],
   "source": [
    "%%time\n",
    "titles = kgtk(f\"filter -i {dataset_path} -p '; P1476 ;'\")"
   ]
  },
  {
   "cell_type": "code",
   "execution_count": 10,
   "metadata": {},
   "outputs": [
    {
     "data": {
      "text/html": [
       "<div>\n",
       "<style scoped>\n",
       "    .dataframe tbody tr th:only-of-type {\n",
       "        vertical-align: middle;\n",
       "    }\n",
       "\n",
       "    .dataframe tbody tr th {\n",
       "        vertical-align: top;\n",
       "    }\n",
       "\n",
       "    .dataframe thead th {\n",
       "        text-align: right;\n",
       "    }\n",
       "</style>\n",
       "<table border=\"1\" class=\"dataframe\">\n",
       "  <thead>\n",
       "    <tr style=\"text-align: right;\">\n",
       "      <th></th>\n",
       "      <th>id</th>\n",
       "      <th>node1</th>\n",
       "      <th>label</th>\n",
       "      <th>node2</th>\n",
       "    </tr>\n",
       "  </thead>\n",
       "  <tbody>\n",
       "    <tr>\n",
       "      <th>0</th>\n",
       "      <td>W2138810412-V00_118161</td>\n",
       "      <td>W2138810412</td>\n",
       "      <td>P1476</td>\n",
       "      <td>Content Based Rate Estimation Using Lazy Membe...</td>\n",
       "    </tr>\n",
       "    <tr>\n",
       "      <th>1</th>\n",
       "      <td>W1546627792-V00_118162</td>\n",
       "      <td>W1546627792</td>\n",
       "      <td>P1476</td>\n",
       "      <td>Probability Approximations via the Poisson Clu...</td>\n",
       "    </tr>\n",
       "    <tr>\n",
       "      <th>2</th>\n",
       "      <td>W2594445009-V00_118163</td>\n",
       "      <td>W2594445009</td>\n",
       "      <td>P1476</td>\n",
       "      <td>A Study on Massive Open Online Courses in High...</td>\n",
       "    </tr>\n",
       "    <tr>\n",
       "      <th>3</th>\n",
       "      <td>W2092634194-V00_118164</td>\n",
       "      <td>W2092634194</td>\n",
       "      <td>P1476</td>\n",
       "      <td>Massive Open Online Courses on Health and Medi...</td>\n",
       "    </tr>\n",
       "    <tr>\n",
       "      <th>4</th>\n",
       "      <td>W4211094263-V00_118165</td>\n",
       "      <td>W4211094263</td>\n",
       "      <td>P1476</td>\n",
       "      <td>Preconditioning@en</td>\n",
       "    </tr>\n",
       "  </tbody>\n",
       "</table>\n",
       "</div>"
      ],
      "text/plain": [
       "                       id        node1  label  \\\n",
       "0  W2138810412-V00_118161  W2138810412  P1476   \n",
       "1  W1546627792-V00_118162  W1546627792  P1476   \n",
       "2  W2594445009-V00_118163  W2594445009  P1476   \n",
       "3  W2092634194-V00_118164  W2092634194  P1476   \n",
       "4  W4211094263-V00_118165  W4211094263  P1476   \n",
       "\n",
       "                                               node2  \n",
       "0  Content Based Rate Estimation Using Lazy Membe...  \n",
       "1  Probability Approximations via the Poisson Clu...  \n",
       "2  A Study on Massive Open Online Courses in High...  \n",
       "3  Massive Open Online Courses on Health and Medi...  \n",
       "4                                 Preconditioning@en  "
      ]
     },
     "execution_count": 10,
     "metadata": {},
     "output_type": "execute_result"
    }
   ],
   "source": [
    "titles.head(n=5)"
   ]
  },
  {
   "cell_type": "code",
   "execution_count": 11,
   "metadata": {},
   "outputs": [],
   "source": [
    "papers_idx = embedding_df[\"node1\"].to_list()\n",
    "titles_idx = dict(titles[[\"node1\", \"node2\"]].values.tolist())"
   ]
  },
  {
   "cell_type": "markdown",
   "metadata": {},
   "source": [
    "Now, let's find similar papers to \"VECTOR VALUED REPRODUCING KERNEL HILBERT SPACES OF INTEGRABLE FUNCTIONS AND MERCER THEOREM.\"\n",
    "\n",
    "First we need to find the embedding of this paper."
   ]
  },
  {
   "cell_type": "code",
   "execution_count": 12,
   "metadata": {},
   "outputs": [],
   "source": [
    "candidate = \"W2165867509\"\n",
    "candidate_title = titles_idx[candidate]\n",
    "candidate_embedding = np.array(embedding_df[embedding_df['node1'] == candidate][\"node2\"].to_numpy()[0]).reshape(1, -1)"
   ]
  },
  {
   "cell_type": "markdown",
   "metadata": {
    "tags": []
   },
   "source": [
    "Then, we can retrieve the closest papers:"
   ]
  },
  {
   "cell_type": "code",
   "execution_count": 13,
   "metadata": {},
   "outputs": [],
   "source": [
    "distances, neighbors = index.search(candidate_embedding, 6)"
   ]
  },
  {
   "cell_type": "markdown",
   "metadata": {},
   "source": [
    "As a sanity check, the closest paper should be itself:"
   ]
  },
  {
   "cell_type": "code",
   "execution_count": 14,
   "metadata": {},
   "outputs": [],
   "source": [
    "assert candidate_title == titles_idx[papers_idx[neighbors[0][0]]]\n",
    "assert distances[0][0] == 0.0"
   ]
  },
  {
   "cell_type": "code",
   "execution_count": 15,
   "metadata": {},
   "outputs": [
    {
     "name": "stdout",
     "output_type": "stream",
     "text": [
      "W2165867509 --> VECTOR VALUED REPRODUCING KERNEL HILBERT SPACES OF INTEGRABLE FUNCTIONS AND MERCER THEOREM@en (0.0)\n",
      "W3176077280 --> Bounding convex relaxations of process models from below by tractable black-box sampling@en (0.18699485063552856)\n",
      "W2963744345 --> Analysis of a Splitting Approach for the Parallel Solution of Linear Systems on GPU Cards@en (0.21961277723312378)\n",
      "W2964170750 --> Reproducing kernel Hilbert spaces and variable metric algorithms in PDE-constrained shape optimization@en (0.22445255517959595)\n",
      "W2048625569 --> Cryptanalysis of a remote login authentication scheme@en (0.22557495534420013)\n",
      "W2562979639 --> THEORIES, STYLES AND STRATEGIES OF LEARNING IN E-LEARNING@en (0.23612035810947418)\n"
     ]
    }
   ],
   "source": [
    "for distance, neighbor in zip(distances[0], neighbors[0]):\n",
    "    print(f\"{papers_idx[neighbor]} --> {titles_idx[papers_idx[neighbor]]} ({distance})\")"
   ]
  },
  {
   "cell_type": "markdown",
   "metadata": {},
   "source": [
    "## Identifying Communities"
   ]
  },
  {
   "cell_type": "markdown",
   "metadata": {},
   "source": [
    "First we need to extract the citation graph, we also want to filter out the papers without a publication date"
   ]
  },
  {
   "cell_type": "code",
   "execution_count": 16,
   "metadata": {},
   "outputs": [
    {
     "name": "stdout",
     "output_type": "stream",
     "text": [
      "CPU times: user 7.67 ms, sys: 14.4 ms, total: 22 ms\n",
      "Wall time: 6.44 s\n"
     ]
    }
   ],
   "source": [
    "%%time\n",
    "kgtk(f\"\"\"query -i {dataset_path}\n",
    "    --match '(node1)-[:P2860]->(node2), (node1)-[:P577]->(node3), (node2)-[:P577]->(node4)'\n",
    "    --return 'node1, \"P2860\" as label, node2'\n",
    "    -o {tmp_dir}/citation_graph_10k.tsv\n",
    "    \"\"\")"
   ]
  },
  {
   "cell_type": "markdown",
   "metadata": {},
   "source": [
    "Now, let's run a community detection model"
   ]
  },
  {
   "cell_type": "code",
   "execution_count": 17,
   "metadata": {},
   "outputs": [
    {
     "name": "stdout",
     "output_type": "stream",
     "text": [
      "CPU times: user 15.2 ms, sys: 25.6 ms, total: 40.8 ms\n",
      "Wall time: 25.4 s\n"
     ]
    }
   ],
   "source": [
    "%%time\n",
    "kgtk(f\"\"\"community-detection -i {tmp_dir}/citation_graph_10k.tsv\n",
    "    --method blockmodel\n",
    "    -o {tmp_dir}/communities_10k.tsv\n",
    "    \"\"\")"
   ]
  },
  {
   "cell_type": "markdown",
   "metadata": {},
   "source": [
    "Let's check the number of communities!"
   ]
  },
  {
   "cell_type": "code",
   "execution_count": 18,
   "metadata": {},
   "outputs": [
    {
     "name": "stdout",
     "output_type": "stream",
     "text": [
      "CPU times: user 13.1 ms, sys: 19.9 ms, total: 33 ms\n",
      "Wall time: 5.78 s\n"
     ]
    },
    {
     "data": {
      "text/html": [
       "<div>\n",
       "<style scoped>\n",
       "    .dataframe tbody tr th:only-of-type {\n",
       "        vertical-align: middle;\n",
       "    }\n",
       "\n",
       "    .dataframe tbody tr th {\n",
       "        vertical-align: top;\n",
       "    }\n",
       "\n",
       "    .dataframe thead th {\n",
       "        text-align: right;\n",
       "    }\n",
       "</style>\n",
       "<table border=\"1\" class=\"dataframe\">\n",
       "  <thead>\n",
       "    <tr style=\"text-align: right;\">\n",
       "      <th></th>\n",
       "      <th>count</th>\n",
       "    </tr>\n",
       "  </thead>\n",
       "  <tbody>\n",
       "    <tr>\n",
       "      <th>0</th>\n",
       "      <td>45</td>\n",
       "    </tr>\n",
       "  </tbody>\n",
       "</table>\n",
       "</div>"
      ],
      "text/plain": [
       "   count\n",
       "0     45"
      ]
     },
     "execution_count": 18,
     "metadata": {},
     "output_type": "execute_result"
    }
   ],
   "source": [
    "%%time\n",
    "kgtk(f\"query -i {tmp_dir}/communities_10k.tsv --match '()-[]->(class)' --return 'count(distinct class) as count'\")"
   ]
  },
  {
   "cell_type": "markdown",
   "metadata": {},
   "source": [
    "### Visualization"
   ]
  },
  {
   "cell_type": "markdown",
   "metadata": {},
   "source": [
    "First we need to create a node file containing the community of each node.\n",
    "A cool feature here is that we can chain commands together without needing to save into intermediary files!"
   ]
  },
  {
   "cell_type": "code",
   "execution_count": 25,
   "metadata": {
    "tags": []
   },
   "outputs": [
    {
     "name": "stdout",
     "output_type": "stream",
     "text": [
      "CPU times: user 12.7 ms, sys: 10.5 ms, total: 23.2 ms\n",
      "Wall time: 9.94 s\n"
     ]
    }
   ],
   "source": [
    "%%time\n",
    "kgtk(f\"\"\"query -i {dataset_path} --as sample\n",
    "    -i {tmp_dir}/communities_10k.tsv --as communities\n",
    "    --match 'communities: (work)-[]->(comm), sample: (work)-[:P1476]->(title)'\n",
    "    --return 'work as id, kgtk_unstringify(title) as label, comm as community_id'\n",
    "\n",
    "    /\n",
    "\n",
    "    calc\n",
    "    --do substring \n",
    "    --columns  community_id \n",
    "    --into    'community_id' \n",
    "    --values 8 \n",
    "    -o {tmp_dir}/viz_communities_10k.tsv\n",
    "    \"\"\")"
   ]
  },
  {
   "cell_type": "markdown",
   "metadata": {},
   "source": [
    "Now we can generate the Visualization."
   ]
  },
  {
   "cell_type": "code",
   "execution_count": 26,
   "metadata": {
    "tags": []
   },
   "outputs": [
    {
     "name": "stdout",
     "output_type": "stream",
     "text": [
      "CPU times: user 47.8 ms, sys: 17.3 ms, total: 65.2 ms\n",
      "Wall time: 5.23 s\n"
     ]
    }
   ],
   "source": [
    "%%time\n",
    "%%capture\n",
    "kgtk(f\"\"\"visualize-graph -i  {tmp_dir}/citation_graph_10k.tsv \n",
    "    --node-file {tmp_dir}/viz_communities_10k.tsv\n",
    "    --node-color-column community_id\n",
    "    --node-color-style d3.interpolateRainbow\n",
    "    --edge-color-default \"#010101\"\n",
    "    --edge-width-default 0.10\n",
    "    --tooltip-column label\n",
    "    -o {tmp_dir}/viz.html\n",
    "    \"\"\")"
   ]
  },
  {
   "cell_type": "code",
   "execution_count": 27,
   "metadata": {},
   "outputs": [
    {
     "data": {
      "text/html": [
       "\n",
       "        <iframe\n",
       "            width=\"1920\"\n",
       "            height=\"1080\"\n",
       "            src=\"./tmp/viz.html\"\n",
       "            frameborder=\"0\"\n",
       "            allowfullscreen\n",
       "            \n",
       "        ></iframe>\n",
       "        "
      ],
      "text/plain": [
       "<IPython.lib.display.IFrame at 0x7fb74db8b850>"
      ]
     },
     "execution_count": 27,
     "metadata": {},
     "output_type": "execute_result"
    }
   ],
   "source": [
    "from IPython.display import IFrame\n",
    "\n",
    "IFrame(src=f\"{tmp_dir}/viz.html\", width=1920, height=1080)"
   ]
  },
  {
   "cell_type": "markdown",
   "metadata": {},
   "source": [
    "## PageRank"
   ]
  },
  {
   "cell_type": "markdown",
   "metadata": {},
   "source": [
    "To calculate pagerank we just filter the citations and then run the algorithm:"
   ]
  },
  {
   "cell_type": "code",
   "execution_count": 28,
   "metadata": {},
   "outputs": [
    {
     "name": "stdout",
     "output_type": "stream",
     "text": [
      "CPU times: user 18.8 ms, sys: 20.2 ms, total: 39 ms\n",
      "Wall time: 27.6 s\n"
     ]
    }
   ],
   "source": [
    "%%time\n",
    "kgtk(f\"\"\"\n",
    "    query -i {dataset_path}\n",
    "    --match '(node1)-[:P2860]->(node2)'\n",
    "    --return 'node1, \"P2860\" as label, node2'\n",
    "    \n",
    "    /\n",
    "    \n",
    "    add-id --id-style wikidata\n",
    "    \n",
    "    /\n",
    "\n",
    "    graph-statistics --compute-pagerank True \n",
    "    --compute-hits False \n",
    "    --page-rank-property node_pagerank \n",
    "    --vertex-in-degree-property node_in_degree\n",
    "    --vertex-out-degree-property node_out_degree\n",
    "    --output-degrees True \n",
    "    --output-pagerank True \n",
    "    --output-hits False \\\n",
    "    --output-statistics-only \n",
    "    --undirected False\n",
    "    --log-file {tmp_dir}/metadata.pagerank.undirected.summary_10k.txt\n",
    "    -o {tmp_dir}/metadata.pagerank.undirected_10k.tsv\n",
    "    \"\"\")"
   ]
  },
  {
   "cell_type": "code",
   "execution_count": 31,
   "metadata": {},
   "outputs": [
    {
     "name": "stdout",
     "output_type": "stream",
     "text": [
      "CPU times: user 8.41 ms, sys: 21.2 ms, total: 29.6 ms\n",
      "Wall time: 6.44 s\n"
     ]
    }
   ],
   "source": [
    "%%time\n",
    "kgtk(f\"\"\"query -i {dataset_path} --as sample\n",
    "    -i {tmp_dir}/metadata.pagerank.undirected_10k.tsv --as pageranks\n",
    "    --match 'sample: (node1)-[:P1476]->(node2), pageranks: (node1)-[:node_pagerank]->(node3)'\n",
    "    --return 'node1 as work, node2 as title, node3 as pagerank'\n",
    "    --order-by 'cast(pagerank, float) desc'\n",
    "    -o {tmp_dir}/papers_pagerank.tsv\n",
    "    \"\"\")"
   ]
  },
  {
   "cell_type": "code",
   "execution_count": 32,
   "metadata": {},
   "outputs": [
    {
     "data": {
      "text/html": [
       "<div>\n",
       "<style scoped>\n",
       "    .dataframe tbody tr th:only-of-type {\n",
       "        vertical-align: middle;\n",
       "    }\n",
       "\n",
       "    .dataframe tbody tr th {\n",
       "        vertical-align: top;\n",
       "    }\n",
       "\n",
       "    .dataframe thead th {\n",
       "        text-align: right;\n",
       "    }\n",
       "</style>\n",
       "<table border=\"1\" class=\"dataframe\">\n",
       "  <thead>\n",
       "    <tr style=\"text-align: right;\">\n",
       "      <th></th>\n",
       "      <th>work</th>\n",
       "      <th>title</th>\n",
       "      <th>pagerank</th>\n",
       "    </tr>\n",
       "  </thead>\n",
       "  <tbody>\n",
       "    <tr>\n",
       "      <th>0</th>\n",
       "      <td>W1991760834</td>\n",
       "      <td>Algorithm for Diagonalization of Large Matrice...</td>\n",
       "      <td>0.005319</td>\n",
       "    </tr>\n",
       "    <tr>\n",
       "      <th>1</th>\n",
       "      <td>W1988027329</td>\n",
       "      <td>Ground state of the fermion one-component plas...</td>\n",
       "      <td>0.004861</td>\n",
       "    </tr>\n",
       "    <tr>\n",
       "      <th>2</th>\n",
       "      <td>W2026907619</td>\n",
       "      <td>Ground State of the Electron Gas by a Stochast...</td>\n",
       "      <td>0.004293</td>\n",
       "    </tr>\n",
       "    <tr>\n",
       "      <th>3</th>\n",
       "      <td>W2065916059</td>\n",
       "      <td>Modification of Nesbet's algorithm for the ite...</td>\n",
       "      <td>0.004054</td>\n",
       "    </tr>\n",
       "    <tr>\n",
       "      <th>4</th>\n",
       "      <td>W2056760934</td>\n",
       "      <td>Equation of State Calculations by Fast Computi...</td>\n",
       "      <td>0.003971</td>\n",
       "    </tr>\n",
       "    <tr>\n",
       "      <th>5</th>\n",
       "      <td>W2033943395</td>\n",
       "      <td>User Acceptance of Computer Technology: A Comp...</td>\n",
       "      <td>0.003760</td>\n",
       "    </tr>\n",
       "    <tr>\n",
       "      <th>6</th>\n",
       "      <td>W2247216366</td>\n",
       "      <td>The Evaluation of the Collision Matrix@en</td>\n",
       "      <td>0.003315</td>\n",
       "    </tr>\n",
       "    <tr>\n",
       "      <th>7</th>\n",
       "      <td>W1983523064</td>\n",
       "      <td>The description of collective motions in terms...</td>\n",
       "      <td>0.003145</td>\n",
       "    </tr>\n",
       "    <tr>\n",
       "      <th>8</th>\n",
       "      <td>W1791587663</td>\n",
       "      <td>Perceived Usefulness, Perceived Ease of Use, a...</td>\n",
       "      <td>0.003094</td>\n",
       "    </tr>\n",
       "    <tr>\n",
       "      <th>9</th>\n",
       "      <td>W2009596258</td>\n",
       "      <td>The iterative calculation of a few of the lowe...</td>\n",
       "      <td>0.002858</td>\n",
       "    </tr>\n",
       "  </tbody>\n",
       "</table>\n",
       "</div>"
      ],
      "text/plain": [
       "          work                                              title  pagerank\n",
       "0  W1991760834  Algorithm for Diagonalization of Large Matrice...  0.005319\n",
       "1  W1988027329  Ground state of the fermion one-component plas...  0.004861\n",
       "2  W2026907619  Ground State of the Electron Gas by a Stochast...  0.004293\n",
       "3  W2065916059  Modification of Nesbet's algorithm for the ite...  0.004054\n",
       "4  W2056760934  Equation of State Calculations by Fast Computi...  0.003971\n",
       "5  W2033943395  User Acceptance of Computer Technology: A Comp...  0.003760\n",
       "6  W2247216366          The Evaluation of the Collision Matrix@en  0.003315\n",
       "7  W1983523064  The description of collective motions in terms...  0.003145\n",
       "8  W1791587663  Perceived Usefulness, Perceived Ease of Use, a...  0.003094\n",
       "9  W2009596258  The iterative calculation of a few of the lowe...  0.002858"
      ]
     },
     "execution_count": 32,
     "metadata": {},
     "output_type": "execute_result"
    }
   ],
   "source": [
    "kgtk(f\"head -i {tmp_dir}/papers_pagerank.tsv\")"
   ]
  },
  {
   "cell_type": "code",
   "execution_count": null,
   "metadata": {},
   "outputs": [],
   "source": []
  }
 ],
 "metadata": {
  "kernelspec": {
   "display_name": "Python 3 (ipykernel)",
   "language": "python",
   "name": "python3"
  },
  "language_info": {
   "codemirror_mode": {
    "name": "ipython",
    "version": 3
   },
   "file_extension": ".py",
   "mimetype": "text/x-python",
   "name": "python",
   "nbconvert_exporter": "python",
   "pygments_lexer": "ipython3",
   "version": "3.8.16"
  },
  "vscode": {
   "interpreter": {
    "hash": "916dbcbb3f70747c44a77c7bcd40155683ae19c65e1c03b4aa3499c5328201f1"
   }
  }
 },
 "nbformat": 4,
 "nbformat_minor": 4
}

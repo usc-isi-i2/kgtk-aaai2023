{
 "cells": [
  {
   "cell_type": "markdown",
   "id": "58fb833f-8691-41b9-9e9c-d82618cc7e6b",
   "metadata": {},
   "source": [
    "# Internet Memes: Knowledge connects culture and creativity\n",
    "\n",
    "This notebook shows how KGTK supports the enrichment and analytics of an Internet Meme Knowledge Graph (IMKG).\n",
    "\n",
    "We highlight how KGTK facilitates:\n",
    "1. Enrichment with a public Knowledge Graph (Wikidata)\n",
    "2. Scalable analytics and visualization of the resulting IMKG"
   ]
  },
  {
   "cell_type": "markdown",
   "id": "4420642a-2ee9-467c-b4b5-252f5a506331",
   "metadata": {},
   "source": [
    "## Step 0: Setup\n"
   ]
  },
  {
   "cell_type": "markdown",
   "id": "2b9c4b5c-927e-4102-8eca-df2a8fea701a",
   "metadata": {},
   "source": [
    "### Notebook data setup"
   ]
  },
  {
   "cell_type": "code",
   "execution_count": 1,
   "id": "4b0f539e-e756-4560-a00f-4ddaa24b6345",
   "metadata": {},
   "outputs": [],
   "source": [
    "import os\n",
    "import os.path\n",
    "\n",
    "from kgtk.configure_kgtk_notebooks import ConfigureKGTK\n",
    "from kgtk.functions import kgtk"
   ]
  },
  {
   "cell_type": "code",
   "execution_count": 2,
   "id": "1bbb44f1-e8b4-476d-a7ca-c654ce237c07",
   "metadata": {},
   "outputs": [],
   "source": [
    "# Parameters\n",
    "\n",
    "# Folders on local machine where to create the output and temporary files:\n",
    "input_path = \"datasets\"\n",
    "output_path = \"projects\"\n",
    "project_name = \"memes\""
   ]
  },
  {
   "cell_type": "code",
   "execution_count": 3,
   "id": "181270c3-4086-4ab2-8b18-bd98cfdec9f7",
   "metadata": {},
   "outputs": [
    {
     "name": "stdout",
     "output_type": "stream",
     "text": [
      "User home: /Users/filipilievski\n",
      "Current dir: /Users/filipilievski/mcs/kgtk-aaai2023\n",
      "KGTK dir: /Users/filipilievski/mcs\n",
      "Use-cases dir: /Users/filipilievski/mcs/use-cases\n"
     ]
    }
   ],
   "source": [
    "# These are all the KG files that we use in this notebook:\n",
    "additional_files = {\n",
    "    \"kym\": \"kym.kgtk.gz\",\n",
    "    \"wiki\": \"wd_mini.kgtk.gz\",\n",
    "    \"mappings\": \"mappings.kgtk.gz\"\n",
    "    \n",
    "}\n",
    "\n",
    "big_files = [\n",
    "    \"label\",\n",
    "]\n",
    "\n",
    "ck = ConfigureKGTK(big_files)\n",
    "ck.configure_kgtk(input_graph_path=input_path, \n",
    "                  output_path=output_path, \n",
    "                  project_name=project_name,\n",
    "                  additional_files=additional_files)"
   ]
  },
  {
   "cell_type": "code",
   "execution_count": 4,
   "id": "f0edf8f5-9352-4338-bece-4c5d2bac9206",
   "metadata": {},
   "outputs": [
    {
     "name": "stdout",
     "output_type": "stream",
     "text": [
      "STORE: projects/memes/temp.memes/wikidata.sqlite3.db\n",
      "TEMP: projects/memes/temp.memes\n",
      "EXAMPLES_DIR: /Users/filipilievski/mcs/examples\n",
      "KGTK_GRAPH_CACHE: projects/memes/temp.memes/wikidata.sqlite3.db\n",
      "GRAPH: data\n",
      "kgtk: kgtk\n",
      "USE_CASES_DIR: /Users/filipilievski/mcs/use-cases\n",
      "KGTK_LABEL_FILE: data/labels.en.tsv.gz\n",
      "KGTK_OPTION_DEBUG: false\n",
      "kypher: kgtk query --graph-cache projects/memes/temp.memes/wikidata.sqlite3.db\n",
      "OUT: projects/memes\n",
      "label: data/labels.en.tsv.gz\n",
      "kym: data/kym.kgtk.gz\n",
      "wiki: data/wd_mini.kgtk.gz\n",
      "mappings: data/mappings.kgtk.gz\n"
     ]
    }
   ],
   "source": [
    "ck.print_env_variables()"
   ]
  },
  {
   "cell_type": "code",
   "execution_count": 5,
   "id": "d00539a9-99e5-4625-a48c-550d4ce711ca",
   "metadata": {},
   "outputs": [
    {
     "name": "stdout",
     "output_type": "stream",
     "text": [
      "kgtk query --graph-cache projects/memes/temp.memes/wikidata.sqlite3.db -i \"data/labels.en.tsv.gz\" --as label  -i \"data/kym.kgtk.gz\" --as kym  -i \"data/wd_mini.kgtk.gz\" --as wiki  -i \"data/mappings.kgtk.gz\" --as mappings  --limit 3\n",
      "input alias 'label' already in use\n"
     ]
    }
   ],
   "source": [
    "ck.load_files_into_cache()"
   ]
  },
  {
   "cell_type": "markdown",
   "id": "cf6da40f-0ca9-476d-9f0b-d2413249b421",
   "metadata": {},
   "source": [
    "## Part 1: Enrichment of knowledge with Wikidata"
   ]
  },
  {
   "cell_type": "markdown",
   "id": "709fdcc2-a09e-417b-8069-18b19b93b870",
   "metadata": {},
   "source": [
    "Let's see how much information Wikidata has about Internet Memes:"
   ]
  },
  {
   "cell_type": "code",
   "execution_count": 6,
   "id": "a06986ea-f33b-4e56-bc96-bd9c58019fff",
   "metadata": {},
   "outputs": [
    {
     "name": "stdout",
     "output_type": "stream",
     "text": [
      "count(DISTINCT graph_4_c1.\"node1\")\n",
      "277\n",
      "CPU times: user 16.2 ms, sys: 11.6 ms, total: 27.8 ms\n",
      "Wall time: 1.46 s\n"
     ]
    }
   ],
   "source": [
    "%%time\n",
    "!kgtk query -i $wiki \\\n",
    "    --match '(im)-[:P31]->(:Q2927074)' \\\n",
    "    --return 'count (distinct im)'"
   ]
  },
  {
   "cell_type": "markdown",
   "id": "d0723a50-43bc-4e03-936c-3764bd2fd914",
   "metadata": {},
   "source": [
    "So our portion of Wikidata has 277 Internet Meme instances. Let's see how many of them have links to KnowYourMeme in Wikidata:"
   ]
  },
  {
   "cell_type": "code",
   "execution_count": 7,
   "id": "4fb9adbd-69e5-4719-9b7e-662bb8bd4e7e",
   "metadata": {},
   "outputs": [
    {
     "name": "stdout",
     "output_type": "stream",
     "text": [
      "count(DISTINCT graph_4_c1.\"node1\")\n",
      "239\n",
      "CPU times: user 18.2 ms, sys: 12.8 ms, total: 31.1 ms\n",
      "Wall time: 1.48 s\n"
     ]
    }
   ],
   "source": [
    "%%time\n",
    "!kgtk query -i $wiki -i $mappings \\\n",
    "    --match 'wd: (im)-[:P31]->(:Q2927074), \\\n",
    "             mappings: (im)-[:P6760]->(imkym)' \\\n",
    "    --return 'count (distinct im)'"
   ]
  },
  {
   "cell_type": "markdown",
   "id": "89e1395f-2031-47de-a01e-66eb3c0ebab6",
   "metadata": {},
   "source": [
    "Out of the 277 memes we have in Wikidata, 239 have a link to KnowYourMeme (KYM).\n",
    "\n",
    "How many memes do we have in the KYM graph itself?"
   ]
  },
  {
   "cell_type": "code",
   "execution_count": 8,
   "id": "9f81142e-effb-4ecb-8b63-02a06114d5df",
   "metadata": {},
   "outputs": [
    {
     "name": "stdout",
     "output_type": "stream",
     "text": [
      "count(DISTINCT graph_6_c1.\"node1\")\n",
      "12585\n",
      "CPU times: user 16.8 ms, sys: 12.1 ms, total: 28.9 ms\n",
      "Wall time: 1.49 s\n"
     ]
    }
   ],
   "source": [
    "%%time\n",
    "!kgtk query -i $kym \\\n",
    "    --match '(n1)-[r:`rdf:type`]->(:`kym:Meme`)' \\\n",
    "    --return 'count(distinct n1)'"
   ]
  },
  {
   "cell_type": "markdown",
   "id": "92a6ad94-f9b4-45c0-9285-31894fe3a845",
   "metadata": {},
   "source": [
    "Let's now connect KYM with Wikidata through their shared meme identifiers.\n",
    "\n",
    "We first extract knowledge about memes that exist in both graphs. \n",
    "\n",
    "We store the information from KYM in a separate graph file called `kym_memes.kgtk.gz`:"
   ]
  },
  {
   "cell_type": "code",
   "execution_count": 9,
   "id": "80c01978-b793-4456-8934-957c64517579",
   "metadata": {},
   "outputs": [
    {
     "name": "stdout",
     "output_type": "stream",
     "text": [
      "CPU times: user 34.3 ms, sys: 17.3 ms, total: 51.6 ms\n",
      "Wall time: 3.1 s\n"
     ]
    }
   ],
   "source": [
    "%%time\n",
    "!kgtk query -i $kym -i $mappings \\\n",
    "    --match 'mapping: (meme_qid)-[:P6760]->(kym_meme), \\\n",
    "            kym: (kym_meme)-[mrel]->(mval)' \\\n",
    "    --return 'kym_meme as node1, mrel.label as label, mval as node2' /\\\n",
    "    deduplicate -o $TEMP/kym_memes.kgtk.gz"
   ]
  },
  {
   "cell_type": "code",
   "execution_count": 10,
   "id": "10ffc31a-22bf-48fa-8e1b-e3ecfe34f3b3",
   "metadata": {},
   "outputs": [
    {
     "name": "stdout",
     "output_type": "stream",
     "text": [
      "count(graph_23_c1.\"node1\")\n",
      "17073\n",
      "CPU times: user 19.6 ms, sys: 13.9 ms, total: 33.5 ms\n",
      "Wall time: 1.63 s\n"
     ]
    }
   ],
   "source": [
    "%%time\n",
    "!kgtk query -i $TEMP/kym_memes.kgtk.gz \\\n",
    "    --match '(n1)-[r]->()' \\\n",
    "    --return 'count(n1)'"
   ]
  },
  {
   "cell_type": "code",
   "execution_count": 11,
   "id": "c6e27b95-bab2-42b8-88aa-a39fbd7bddef",
   "metadata": {},
   "outputs": [
    {
     "name": "stdout",
     "output_type": "stream",
     "text": [
      "node1\tlabel\tnode2\n",
      "kym:%CD%A1-%CD%9C%CA%96-%CD%A1-lenny-face\tm4s:about\t( ͡° ͜ʖ ͡°) is an emoticon created with unicode character symbols. The face is often used to spam forums and image boards, similar to the Japanese word \\desu\\\". On 4chan, it has also come to be known as \\\"Le Lenny Face\\\" or \\\"Le Face Face.\\\"\"\n",
      "kym:%CD%A1-%CD%9C%CA%96-%CD%A1-lenny-face\tm4s:added\tnodeDW9ARPJSRQYEUQn4RyWQMF-16625\n",
      "kym:%CD%A1-%CD%9C%CA%96-%CD%A1-lenny-face\tm4s:from\tYlilauta\n",
      "kym:%CD%A1-%CD%9C%CA%96-%CD%A1-lenny-face\tm4s:fromAbout\tQ238330\n",
      "kym:%CD%A1-%CD%9C%CA%96-%CD%A1-lenny-face\tm4s:fromAbout\tQ28135014\n",
      "kym:%CD%A1-%CD%9C%CA%96-%CD%A1-lenny-face\tm4s:fromAbout\tQ31963\n",
      "kym:%CD%A1-%CD%9C%CA%96-%CD%A1-lenny-face\tm4s:fromAbout\tQ5287\n",
      "kym:%CD%A1-%CD%9C%CA%96-%CD%A1-lenny-face\tm4s:fromAbout\tQ8819\n",
      "kym:%CD%A1-%CD%9C%CA%96-%CD%A1-lenny-face\tm4s:fromImage\tQ1027879\n",
      "kym:%CD%A1-%CD%9C%CA%96-%CD%A1-lenny-face\tm4s:fromImage\tQ10770146\n",
      "CPU times: user 19.9 ms, sys: 12.6 ms, total: 32.5 ms\n",
      "Wall time: 1.5 s\n"
     ]
    }
   ],
   "source": [
    "%%time\n",
    "!kgtk query -i $TEMP/kym_memes.kgtk.gz \\\n",
    "    --match '(n1)-[r]->()' \\\n",
    "    --limit 10"
   ]
  },
  {
   "cell_type": "markdown",
   "id": "ce9a589f-3e8e-4644-bb4e-cf204069a4c0",
   "metadata": {},
   "source": [
    "Alright, so we have 17K triples from KYM about these memes. \n",
    "\n",
    "We store the information from Wikidata in a separate graph file called `wd_memes.kgtk.gz`:"
   ]
  },
  {
   "cell_type": "code",
   "execution_count": 12,
   "id": "e28210bb-aa74-49b9-b82b-e25eba501840",
   "metadata": {},
   "outputs": [
    {
     "name": "stdout",
     "output_type": "stream",
     "text": [
      "CPU times: user 36.1 ms, sys: 18.7 ms, total: 54.8 ms\n",
      "Wall time: 2.96 s\n"
     ]
    }
   ],
   "source": [
    "%%time\n",
    "!kgtk query -i $wiki -i $mappings \\\n",
    "    --match 'mapping: (meme_qid)-[:P6760]->(), \\\n",
    "            wd: (meme_qid)-[mrel]->(mval)' \\\n",
    "    --return 'meme_qid as node1, mrel.label as label, mval as node2' /\\\n",
    "    deduplicate -o $TEMP/wd_memes.kgtk.gz"
   ]
  },
  {
   "cell_type": "code",
   "execution_count": 13,
   "id": "01ea9f68-dd94-4868-b462-fbafdce918a7",
   "metadata": {},
   "outputs": [
    {
     "name": "stdout",
     "output_type": "stream",
     "text": [
      "count(graph_18_c1.\"node1\")\n",
      "1394\n",
      "CPU times: user 19.4 ms, sys: 13.3 ms, total: 32.6 ms\n",
      "Wall time: 1.52 s\n"
     ]
    }
   ],
   "source": [
    "%%time\n",
    "!kgtk query -i $TEMP/wd_memes.kgtk.gz \\\n",
    "    --match '(n1)-[r]->()' \\\n",
    "    --return 'count(n1)'"
   ]
  },
  {
   "cell_type": "markdown",
   "id": "c6b45fc3-a287-45cc-9ba9-3b302e47c521",
   "metadata": {},
   "source": [
    "In total we get 1,394 new triples about these memes. Let's look at some examples, but together with labels for human readability:"
   ]
  },
  {
   "cell_type": "code",
   "execution_count": 14,
   "id": "22a4b2cd-85cb-42e1-b329-26abe836f131",
   "metadata": {},
   "outputs": [
    {
     "name": "stdout",
     "output_type": "stream",
     "text": [
      "node1\tlabel\tnode2\tnode1;label\tnode2;label\n",
      "Q104005472\tP1080\tQ87609688\t'Primitive Sponge'@en\t'SpongeBob SquarePants universe'@en\n",
      "Q104005472\tP1340\tQ17122834\t'Primitive Sponge'@en\t'blue'@en\n",
      "Q104005472\tP1441\tQ83279\t'Primitive Sponge'@en\t'SpongeBob SquarePants'@en\n",
      "Q104005472\tP21\tQ6581097\t'Primitive Sponge'@en\t'male'@en\n",
      "Q104005472\tP31\tQ15711870\t'Primitive Sponge'@en\t'animated character'@en\n",
      "Q104005472\tP31\tQ2927074\t'Primitive Sponge'@en\t'Internet meme'@en\n",
      "Q104005472\tP31\tQ88560371\t'Primitive Sponge'@en\t'anthropomorphic sea sponge'@en\n",
      "Q104005472\tP3828\tQ1130359\t'Primitive Sponge'@en\t'loincloth'@en\n",
      "Q104005472\tP4584\tQ29566330\t'Primitive Sponge'@en\t'SB-129'@en\n",
      "Q104005472\tP462\tQ68223248\t'Primitive Sponge'@en\t'light yellow'@en\n",
      "CPU times: user 32.3 ms, sys: 16.1 ms, total: 48.4 ms\n",
      "Wall time: 2.93 s\n"
     ]
    }
   ],
   "source": [
    "%%time\n",
    "!kgtk query -i $TEMP/wd_memes.kgtk.gz \\\n",
    "    --match 'meme: (n1)-[r]->(n2)' \\\n",
    "    --limit 10 / add-labels"
   ]
  },
  {
   "cell_type": "raw",
   "id": "48894f19-ca58-43ff-8eb0-8d2b2490269a",
   "metadata": {},
   "source": [
    "We can now enrich the original KYM graph with the meme information from Wikidata:"
   ]
  },
  {
   "cell_type": "code",
   "execution_count": 15,
   "id": "90905345-66da-4dc3-babd-56f6e99731ec",
   "metadata": {},
   "outputs": [
    {
     "name": "stdout",
     "output_type": "stream",
     "text": [
      "CPU times: user 37.8 ms, sys: 18.9 ms, total: 56.7 ms\n",
      "Wall time: 3.2 s\n"
     ]
    }
   ],
   "source": [
    "%%time\n",
    "!kgtk cat -i $TEMP/kym_memes.kgtk.gz -i $TEMP/wd_memes.kgtk.gz / deduplicate -o $TEMP/combined.kgtk.gz"
   ]
  },
  {
   "cell_type": "markdown",
   "id": "397bb311-36a2-4360-81eb-95c2e38279ac",
   "metadata": {},
   "source": [
    "Finally, we have extracted entities for the KYM memes already based on information extraction. Let's use that to get background information about these entities from Wikidata:"
   ]
  },
  {
   "cell_type": "code",
   "execution_count": 16,
   "id": "8c4034d6-46bf-448f-9462-022ecbfc117e",
   "metadata": {},
   "outputs": [
    {
     "name": "stdout",
     "output_type": "stream",
     "text": [
      "CPU times: user 50.5 ms, sys: 21.1 ms, total: 71.6 ms\n",
      "Wall time: 4.04 s\n"
     ]
    }
   ],
   "source": [
    "%%time\n",
    "!kgtk query -i $TEMP/combined.kgtk.gz \\\n",
    "    --match '(x)-->(y)' \\\n",
    "     --return 'x as node1, \"member\" as label, \"set1\" as node2, y as node1, \"member\" as label, \"set1\" as node2' \\\n",
    "     --multi 2 \\\n",
    "     / deduplicate / add-id / \\\n",
    "     query -i - --as gnodes --idx mode:valuegraph -i $wiki --idx mode:graph \\\n",
    "     --match 'wd:  (x)-[r]->(y), \\\n",
    "              gnodes: (x)-->(), \\\n",
    "                      (y)-->()' \\\n",
    "    --return 'distinct x, r.label, y' \\\n",
    "    -o $TEMP/wikidata_ent.kgtk.gz"
   ]
  },
  {
   "cell_type": "markdown",
   "id": "c6f553f8-4b9e-4c00-bb6e-7fc623af2fd1",
   "metadata": {},
   "source": [
    "To make the output more readable, we enhance it with entity labels from Wikidata:"
   ]
  },
  {
   "cell_type": "code",
   "execution_count": 17,
   "id": "5aa3a667-fc00-4eaa-b584-e4652cc545a5",
   "metadata": {},
   "outputs": [
    {
     "name": "stdout",
     "output_type": "stream",
     "text": [
      "node1\tlabel\tnode2\tnode1;label\tnode2;label\n",
      "Q1\tP2670\tQ6999\t'universe'@en\t'astronomical object'@en\n",
      "Q1\tP3113\tQ2051667\t'universe'@en\t'parallel universe'@en\n",
      "Q100\tP1376\tQ771\t'Boston'@en\t'Massachusetts'@en\n",
      "Q100\tP17\tQ30\t'Boston'@en\t'United States of America'@en\n",
      "Q100\tP30\tQ49\t'Boston'@en\t'North America'@en\n",
      "Q1001\tP106\tQ1930187\t'Mohandas Karamchand Gandhi'@en\t'journalist'@en\n",
      "Q1001\tP1412\tQ1860\t'Mohandas Karamchand Gandhi'@en\t'English'@en\n",
      "Q1001\tP21\tQ6581097\t'Mohandas Karamchand Gandhi'@en\t'male'@en\n",
      "Q1001\tP31\tQ5\t'Mohandas Karamchand Gandhi'@en\t'human'@en\n",
      "Q1001\tP509\tQ2140674\t'Mohandas Karamchand Gandhi'@en\t'ballistic trauma'@en\n",
      "CPU times: user 34.4 ms, sys: 15.9 ms, total: 50.3 ms\n",
      "Wall time: 3.01 s\n"
     ]
    }
   ],
   "source": [
    "%%time\n",
    "!kgtk query -i $TEMP/wikidata_ent.kgtk.gz \\\n",
    "    --match '(n1)-[r]->()' \\\n",
    "    --limit 10 / add-labels"
   ]
  },
  {
   "cell_type": "markdown",
   "id": "3c7351e4-5db5-4954-a488-6696a6a14740",
   "metadata": {},
   "source": [
    "Finally, we merge all the files and deduplicate information, leading to our combined Internet Meme KG."
   ]
  },
  {
   "cell_type": "code",
   "execution_count": 18,
   "id": "660eb311-8953-4215-9c8d-8d11ea578922",
   "metadata": {},
   "outputs": [
    {
     "name": "stdout",
     "output_type": "stream",
     "text": [
      "CPU times: user 38.1 ms, sys: 18.7 ms, total: 56.8 ms\n",
      "Wall time: 3.34 s\n"
     ]
    }
   ],
   "source": [
    "%%time\n",
    "!kgtk cat -i $TEMP/kym_memes.kgtk.gz -i $TEMP/wikidata_ent.kgtk.gz -i $TEMP/wd_memes.kgtk.gz / deduplicate -o $TEMP/imkg.kgtk.gz"
   ]
  },
  {
   "cell_type": "markdown",
   "id": "e11d4f88-9de6-4dd3-b9fe-a3f13b36fe75",
   "metadata": {},
   "source": [
    "## 2. Scalable analytics and visualization"
   ]
  },
  {
   "cell_type": "markdown",
   "id": "3727ee54-3b85-431b-8640-3a5054117699",
   "metadata": {},
   "source": [
    "Let's first compute global statistics of our IMKG graph:"
   ]
  },
  {
   "cell_type": "code",
   "execution_count": 19,
   "id": "a945c9d8-330b-4ea0-954e-63aa16f48a1c",
   "metadata": {},
   "outputs": [
    {
     "name": "stdout",
     "output_type": "stream",
     "text": [
      "objc[3500]: Class GNotificationCenterDelegate is implemented in both /Users/filipilievski/opt/anaconda3/envs/kgtk23/lib/libgio-2.0.0.dylib (0x1a46b7c30) and /usr/local/Cellar/glib/2.72.2/lib/libgio-2.0.0.dylib (0x1abf5b6b0). One of the two will be used. Which one is undefined.\n"
     ]
    }
   ],
   "source": [
    "!kgtk graph-statistics \\\n",
    "     -i $TEMP/imkg.kgtk.gz \\\n",
    "     --log-file $TEMP/imkg_summary.txt \\\n",
    "     --output-statistics-only \\\n",
    "     -o $TEMP/imkg_stats.tsv"
   ]
  },
  {
   "cell_type": "code",
   "execution_count": 20,
   "id": "af3fb40c-8661-4cfd-b898-c0177160bd79",
   "metadata": {},
   "outputs": [
    {
     "name": "stdout",
     "output_type": "stream",
     "text": [
      "graph loaded! It has 8307 nodes and 25002 edges\n",
      "\n",
      "*** Top relations:\n",
      "rdfs:seeAlso\t5725\n",
      "m4s:fromImage\t5404\n",
      "m4s:tag\t1857\n",
      "P31\t1277\n",
      "m4s:fromAbout\t1231\n",
      "P279\t719\n",
      "rdf:type\t487\n",
      "P530\t369\n",
      "skos:broader\t324\n",
      "skos:narrower\t317\n",
      "\n",
      "*** Degrees:\n",
      "in degree stats: mean=3.009751, std=0.123733, max=1\n",
      "out degree stats: mean=3.009751, std=0.181207, max=1\n",
      "total degree stats: mean=6.019502, std=0.223082, max=1\n",
      "\n",
      "*** PageRank\n",
      "Max pageranks\n",
      "5\tQ30\t0.019263\n",
      "9\tQ1860\t0.009866\n",
      "11\tQ5\t0.007839\n",
      "629\tQ180910\t0.007520\n",
      "146\tQ145\t0.007274\n",
      "\n",
      "*** HITS\n",
      "HITS hubs\n",
      "37\tQ2927074\t0.292369\n",
      "2478\tm4s:MediaFrame\t0.259005\n",
      "2476\tkym:Meme\t0.259005\n",
      "2457\tconfirmed\t0.244055\n",
      "98\tQ478798\t0.191864\n",
      "HITS auth\n",
      "3489\tkym:lolcats\t0.200570\n",
      "3395\tkym:caturday\t0.191058\n",
      "3498\tkym:nyan-cat\t0.190469\n",
      "3490\tkym:longcat\t0.186396\n",
      "3478\tkym:kitler\t0.182390\n"
     ]
    }
   ],
   "source": [
    "!cat $TEMP/imkg_summary.txt"
   ]
  },
  {
   "cell_type": "markdown",
   "id": "f79b783a-b194-490f-a130-56c855519b61",
   "metadata": {},
   "source": [
    "Show the most frequent 10 entities from metadata:"
   ]
  },
  {
   "cell_type": "code",
   "execution_count": 21,
   "id": "cd4d0cb0-890a-4b25-b4c4-172bb8322881",
   "metadata": {},
   "outputs": [
    {
     "name": "stdout",
     "output_type": "stream",
     "text": [
      "node2\tc\tnode2;label\n",
      "Q6002242\t29\t'image macro'@en\n",
      "Q238330\t23\t'4chan'@en\n",
      "Q2708515\t22\t'catchphrase'@en\n",
      "Q2927074\t20\t'Internet meme'@en\n",
      "Q7889\t13\t'video game'@en\n",
      "Q866\t11\t'YouTube'@en\n",
      "Q75\t11\t'Internet'@en\n",
      "Q8102\t10\t'slang'@en\n",
      "Q5287\t8\t'Japanese'@en\n",
      "Q1860\t8\t'English'@en\n",
      "CPU times: user 36.2 ms, sys: 17.9 ms, total: 54.1 ms\n",
      "Wall time: 3.09 s\n"
     ]
    }
   ],
   "source": [
    "%%time\n",
    "!kgtk query -i $TEMP/imkg.kgtk.gz  \\\n",
    "    --match 'imkg: ()-[:`m4s:fromAbout`]->(n)' \\\n",
    "    --return 'n, count(n) as c' \\\n",
    "    --order-by 'c desc' \\\n",
    "    --limit 10 / add-labels"
   ]
  },
  {
   "cell_type": "markdown",
   "id": "4e12ce75-d29c-491a-898c-ac80821e7f63",
   "metadata": {},
   "source": [
    "Let's now run some queries for interesting use cases."
   ]
  },
  {
   "cell_type": "markdown",
   "id": "4d6dd9ef-95a2-4fbd-8b7d-16da0dce191e",
   "metadata": {},
   "source": [
    "**Example: What are the most memable people in Wikidata?**"
   ]
  },
  {
   "cell_type": "code",
   "execution_count": 22,
   "id": "5a9fda20-a360-4340-bf63-2c3d4989cf04",
   "metadata": {},
   "outputs": [
    {
     "name": "stdout",
     "output_type": "stream",
     "text": [
      "node2\tc\n",
      "'Kyle Craven'@en\t4\n",
      "'Adolf Hitler'@en\t4\n",
      "'Stefán Karl Stefánsson'@en\t3\n",
      "CPU times: user 499 ms, sys: 135 ms, total: 634 ms\n",
      "Wall time: 42.5 s\n"
     ]
    }
   ],
   "source": [
    "%%time\n",
    "!kgtk query -i $TEMP/imkg.kgtk.gz -i $label \\\n",
    "    --match 'imkg: (h)-[]->(person),\\\n",
    "            (h)-[:`rdf:type`]->(:`kym:Meme`),\\\n",
    "            (person)-[:P31]->(:Q5), \\\n",
    "            label: (person)-->(pname)' \\\n",
    "    --return 'pname, count(h) as c' \\\n",
    "    --order-by 'c desc' \\\n",
    "    --limit 3 "
   ]
  },
  {
   "cell_type": "markdown",
   "id": "ebef7bf3-60f2-4788-b5f2-ac9b4c23ee56",
   "metadata": {},
   "source": [
    "**Example: memes that are based on films?**"
   ]
  },
  {
   "cell_type": "code",
   "execution_count": 23,
   "id": "c03ed379-192c-4693-a1ed-1f6316da84b5",
   "metadata": {},
   "outputs": [
    {
     "name": "stdout",
     "output_type": "stream",
     "text": [
      "count(DISTINCT graph_20_c1.\"node1\")\n",
      "5\n",
      "CPU times: user 19.5 ms, sys: 11.9 ms, total: 31.3 ms\n",
      "Wall time: 1.53 s\n"
     ]
    }
   ],
   "source": [
    "%%time\n",
    "!kgtk query -i $TEMP/imkg.kgtk.gz \\\n",
    "    --match '(h)-[:`m4s:fromAbout`]->(t),\\\n",
    "             (t)-[:P31]->(:Q11424)' \\\n",
    "    --return 'count (distinct h)'"
   ]
  },
  {
   "cell_type": "markdown",
   "id": "6eaf40ba-4e28-4fd8-929c-a531dce07e82",
   "metadata": {},
   "source": [
    "Show me some instances of memes with their movies:"
   ]
  },
  {
   "cell_type": "code",
   "execution_count": 24,
   "id": "db481ba5-c4a2-4dbd-abf5-414ac9a99a56",
   "metadata": {},
   "outputs": [
    {
     "name": "stdout",
     "output_type": "stream",
     "text": [
      "node1\tnode2\n",
      "kym:hitlers-downfall-parodies\t'Downfall'@en\n",
      "kym:dramatic-chipmunk\t'Inception'@en\n",
      "kym:karen\t'Goodfellas'@en\n",
      "kym:bush-did-911\t'Inside Job'@en\n",
      "kym:dramatic-chipmunk\t'Young Frankenstein'@en\n",
      "kym:pepe-the-frog\t'Feels Good Man'@en\n",
      "CPU times: user 22.1 ms, sys: 16.8 ms, total: 38.9 ms\n",
      "Wall time: 1.65 s\n"
     ]
    }
   ],
   "source": [
    "%%time\n",
    "!kgtk query -i $TEMP/imkg.kgtk.gz -i $label \\\n",
    "    --match 'imkg: (h)-[:`m4s:fromAbout`]->(t),\\\n",
    "             (t)-[:P31]->(:Q11424), \\\n",
    "             labels: (t)-->(tname)' \\\n",
    "    --return 'h, tname' \\\n",
    "    --limit 10"
   ]
  },
  {
   "cell_type": "markdown",
   "id": "25dd1b83-2155-4669-b39c-4a325630090d",
   "metadata": {},
   "source": [
    "**Example: how many memes depict the entity Q83279 (\"SpongeBob SquarePants\")**"
   ]
  },
  {
   "cell_type": "code",
   "execution_count": 25,
   "id": "68e3d7e7-f255-41bc-98b5-896e3b01ec2a",
   "metadata": {},
   "outputs": [
    {
     "name": "stdout",
     "output_type": "stream",
     "text": [
      "count(DISTINCT graph_20_c1.\"node1\")\n",
      "2\n",
      "CPU times: user 20.4 ms, sys: 12.9 ms, total: 33.3 ms\n",
      "Wall time: 1.53 s\n"
     ]
    }
   ],
   "source": [
    "%%time\n",
    "!kgtk query -i $TEMP/imkg.kgtk.gz \\\n",
    "    --match '(h)-[:`m4s:fromImage`]->(:Q83279),\\\n",
    "            (h)-[:`rdf:type`]->(:`kym:Meme`)' \\\n",
    "    --return 'count(distinct h)'"
   ]
  },
  {
   "cell_type": "markdown",
   "id": "2a23e3c4-1b7f-482c-8955-f4b6bd4374fa",
   "metadata": {},
   "source": [
    "Show me some examples of Spongebob memes:"
   ]
  },
  {
   "cell_type": "code",
   "execution_count": 26,
   "id": "66cec27d-ea8e-4d26-8333-4eea0d899d67",
   "metadata": {},
   "outputs": [
    {
     "name": "stdout",
     "output_type": "stream",
     "text": [
      "node1\n",
      "kym:spongegar-primitive-sponge-caveman-spongebob\n",
      "kym:the-ugly-barnacle\n"
     ]
    }
   ],
   "source": [
    "!kgtk query -i $TEMP/imkg.kgtk.gz \\\n",
    "    --match '(h)-[:`m4s:fromImage`]->(:Q83279),\\\n",
    "            (h)-[:`rdf:type`]->(:`kym:Meme`)' \\\n",
    "    --return 'distinct h' "
   ]
  },
  {
   "cell_type": "markdown",
   "id": "a11c551d-4606-4206-b8e9-3a1d8f74d802",
   "metadata": {},
   "source": [
    "**Visualize memes about Spongebob**"
   ]
  },
  {
   "cell_type": "markdown",
   "id": "a4dd6dea-66eb-45ee-bcb4-9a9d8b513c91",
   "metadata": {},
   "source": [
    "Let's visualize the knowledge graph connections between memes that depict Spongebob"
   ]
  },
  {
   "cell_type": "code",
   "execution_count": 27,
   "id": "20a5d5f9-3aa8-4d3e-abbf-5d881ef62f3a",
   "metadata": {},
   "outputs": [],
   "source": [
    "!kgtk query -i $TEMP/imkg.kgtk.gz \\\n",
    "    --match '(h)-[:`m4s:fromImage`]->(:Q83279),\\\n",
    "            (h)-[:`rdf:type`]->(:`kym:Meme`),\\\n",
    "            (h)-[r]->(t)' \\\n",
    "    --return 'distinct h,r.label,t'\\\n",
    "    / visualize-graph -o $TEMP/sponge.graph.html"
   ]
  },
  {
   "cell_type": "code",
   "execution_count": 28,
   "id": "7ef80ed7-e6bb-4958-b725-15db296ea19a",
   "metadata": {},
   "outputs": [
    {
     "data": {
      "text/html": [
       "\n",
       "        <iframe\n",
       "            width=\"500\"\n",
       "            height=\"250\"\n",
       "            src=\"projects/memes/temp.memes/sponge.graph.html\"\n",
       "            frameborder=\"0\"\n",
       "            allowfullscreen\n",
       "            \n",
       "        ></iframe>\n",
       "        "
      ],
      "text/plain": [
       "<IPython.lib.display.IFrame at 0x7fc5d84ee2b0>"
      ]
     },
     "execution_count": 28,
     "metadata": {},
     "output_type": "execute_result"
    }
   ],
   "source": [
    "from IPython.display import IFrame\n",
    "\n",
    "IFrame(src=\"projects/memes/temp.memes/sponge.graph.html\", width=500, height=250)"
   ]
  },
  {
   "cell_type": "code",
   "execution_count": null,
   "id": "ff356c3b-f4b8-4131-ab1b-edc70697b328",
   "metadata": {},
   "outputs": [],
   "source": []
  }
 ],
 "metadata": {
  "kernelspec": {
   "display_name": "Python 3 (ipykernel)",
   "language": "python",
   "name": "python3"
  },
  "language_info": {
   "codemirror_mode": {
    "name": "ipython",
    "version": 3
   },
   "file_extension": ".py",
   "mimetype": "text/x-python",
   "name": "python",
   "nbconvert_exporter": "python",
   "pygments_lexer": "ipython3",
   "version": "3.9.16"
  }
 },
 "nbformat": 4,
 "nbformat_minor": 5
}

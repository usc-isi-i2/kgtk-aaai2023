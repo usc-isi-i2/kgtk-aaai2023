{
  "cells": [
    {
      "cell_type": "markdown",
      "metadata": {
        "id": "view-in-github",
        "colab_type": "text"
      },
      "source": [
        "<a href=\"https://colab.research.google.com/github/usc-isi-i2/kgtk-aaai2023/blob/main/04-MoralityInEvents.ipynb\" target=\"_parent\"><img src=\"https://colab.research.google.com/assets/colab-badge.svg\" alt=\"Open In Colab\"/></a>"
      ]
    },
    {
      "cell_type": "markdown",
      "metadata": {
        "id": "sHf1W4FrwVrV"
      },
      "source": [
        "# Welcome to the KGTK-Browser tutorial!\n",
        "\n",
        "In this section we will take a look at how we can install and run kgtk-browser from our github repostiry. We use kgtk-browser to explore the knowledge graph in a visual and more user-oriented way.\n",
        "\n",
        "More specifically, we will focus on morality in events, illustrating how the kgtk-browser can be used to access and visualize custom data using the same format as wikidata.\n",
        "\n",
        "\n",
        "### Step 1\n",
        "\n",
        "First we will need to install the dependencies for tge browser.\n",
        "\n",
        "\n",
        "### Step 2\n",
        "\n",
        "In Step 2, we will use some of the existing kgtk-notebooks to help us split the data into different files containing claims, labels, aliases, etc. We will also calculate the pagerank of the nodes, this will be used later in the browser for search.\n",
        "\n",
        "\n",
        "### Step 3\n",
        "\n",
        "Finally, will use yet another kgtk-notebook to create the graph cache db in. This is where we will build and launch the user-facing part of the browser. Using a simple Flask server on the backend and React.js on the frontend makes this browser very easy to taylor to specific needs of the end-user.\n",
        "\n"
      ]
    },
    {
      "cell_type": "code",
      "source": [
        "#@title Check memory\n",
        "\n",
        "\n",
        "from psutil import virtual_memory\n",
        "ram_gb = virtual_memory().total / 1e9\n",
        "print('\\n\\nYour runtime has {:.1f} gigabytes of available RAM\\n\\n'.format(ram_gb))"
      ],
      "metadata": {
        "colab": {
          "base_uri": "https://localhost:8080/"
        },
        "id": "kyfz8lbmxvSR",
        "outputId": "7295aabd-91a1-405c-dd13-406f313eae0f"
      },
      "execution_count": 1,
      "outputs": [
        {
          "output_type": "stream",
          "name": "stdout",
          "text": [
            "\n",
            "\n",
            "Your runtime has 27.3 gigabytes of available RAM\n",
            "\n",
            "\n"
          ]
        }
      ]
    },
    {
      "cell_type": "markdown",
      "source": [
        "# Step 1: Install dependencies"
      ],
      "metadata": {
        "id": "WpQb15ylZ7zj"
      }
    },
    {
      "cell_type": "code",
      "source": [
        "#@title Install condacolab\n",
        "\n",
        "%%time\n",
        "%%capture\n",
        "\n",
        "\n",
        "!pip install condacolab\n",
        "\n",
        "\n",
        "import condacolab\n",
        "condacolab.install()"
      ],
      "metadata": {
        "colab": {
          "base_uri": "https://localhost:8080/"
        },
        "id": "ISGVjFl4mJEr",
        "outputId": "5c5d9010-991c-44e7-d160-49beef463a84"
      },
      "execution_count": 1,
      "outputs": [
        {
          "output_type": "stream",
          "name": "stdout",
          "text": [
            "CPU times: user 21.3 ms, sys: 13.4 ms, total: 34.7 ms\n",
            "Wall time: 1.73 s\n"
          ]
        }
      ]
    },
    {
      "cell_type": "code",
      "source": [
        "#@title Check condalab was installed\n",
        "\n",
        "import condacolab\n",
        "condacolab.check()"
      ],
      "metadata": {
        "colab": {
          "base_uri": "https://localhost:8080/"
        },
        "id": "iiY1fl5-Iv5a",
        "outputId": "92df1a14-e307-4984-f058-5ddebaee891c"
      },
      "execution_count": 2,
      "outputs": [
        {
          "output_type": "stream",
          "name": "stdout",
          "text": [
            "✨🍰✨ Everything looks OK!\n"
          ]
        }
      ]
    },
    {
      "cell_type": "code",
      "source": [
        "#@title Clone the repositories\n",
        "# - KGTK Browser\n",
        "# - KGTK Notebooks\n",
        "\n",
        "%%time\n",
        "%%capture\n",
        "\n",
        "\n",
        "# Get the kgtk-notebook repository as well\n",
        "!git clone https://github.com/usc-isi-i2/kgtk-notebooks\n",
        "\n",
        "\n",
        "# Get the latest kgtk-browser from GitHub\n",
        "!git clone https://github.com/usc-isi-i2/kgtk-browser\n",
        "\n",
        "\n",
        "# Install the requirements (i.e. kgtk)\n",
        "!pip install -r kgtk-browser/requirements.txt"
      ],
      "metadata": {
        "colab": {
          "base_uri": "https://localhost:8080/"
        },
        "id": "a5jAL4S_GpNP",
        "outputId": "b9b432f6-0a6d-4694-dc8b-18d64780a27f"
      },
      "execution_count": 3,
      "outputs": [
        {
          "output_type": "stream",
          "name": "stdout",
          "text": [
            "CPU times: user 2.07 s, sys: 395 ms, total: 2.46 s\n",
            "Wall time: 3min 52s\n"
          ]
        }
      ]
    },
    {
      "cell_type": "code",
      "source": [
        "#@title Create a new conda environment\n",
        "\n",
        "%%time\n",
        "%%capture\n",
        "\n",
        "\n",
        "!unset $PYTHONPATH\n",
        "!conda create --name kgtk-env python=3.8.15 --yes\n",
        "!conda env update --name kgtk-env --file /content/kgtk-browser/environment.yml"
      ],
      "metadata": {
        "colab": {
          "base_uri": "https://localhost:8080/"
        },
        "id": "qlXcq_q8HePx",
        "outputId": "0e388f0b-d8e2-45ff-9a44-9cfb2ce596b3"
      },
      "execution_count": 4,
      "outputs": [
        {
          "output_type": "stream",
          "name": "stdout",
          "text": [
            "CPU times: user 3.03 s, sys: 446 ms, total: 3.48 s\n",
            "Wall time: 5min 58s\n"
          ]
        }
      ]
    },
    {
      "cell_type": "code",
      "source": [
        "#@title Register environment as a kernel\n",
        "# this is used later on when we run other notebooks\n",
        "# we will be able to pass that environment on to them\n",
        "\n",
        "!ipython kernel install --name kgtk-env --user"
      ],
      "metadata": {
        "colab": {
          "base_uri": "https://localhost:8080/"
        },
        "id": "ej0JKPc2pKaT",
        "outputId": "790ee8d6-c926-4ffe-b009-1d23864feb6e"
      },
      "execution_count": 5,
      "outputs": [
        {
          "output_type": "stream",
          "name": "stdout",
          "text": [
            "Installed kernelspec kgtk-env in /root/.local/share/jupyter/kernels/kgtk-env\n"
          ]
        }
      ]
    },
    {
      "cell_type": "code",
      "source": [
        "!conda list -n kgtk-env | grep kgtk\n",
        "!conda list -n kgtk-env | grep sqlite"
      ],
      "metadata": {
        "colab": {
          "base_uri": "https://localhost:8080/"
        },
        "id": "BfWyW-Qcpq0g",
        "outputId": "2cfaf53a-c6f0-4a1c-82b2-46f329c38a76"
      },
      "execution_count": 9,
      "outputs": [
        {
          "output_type": "stream",
          "name": "stdout",
          "text": [
            "# packages in environment at /usr/local/envs/kgtk-env:\n",
            "kgtk                      1.5.2                    pypi_0    pypi\n",
            "libsqlite                 3.40.0               h753d276_0    conda-forge\n",
            "sqlite                    3.40.0               h4ff8645_0    conda-forge\n"
          ]
        }
      ]
    },
    {
      "cell_type": "code",
      "source": [
        "#@title Install Graph-Tools library\n",
        "\n",
        "%%time\n",
        "%%capture\n",
        "\n",
        "\n",
        "!conda install --channel conda-forge graph-tool --yes"
      ],
      "metadata": {
        "colab": {
          "base_uri": "https://localhost:8080/"
        },
        "id": "PG6fIX6oY2I-",
        "outputId": "59c5541d-7e78-477e-9329-3107868dfaaa"
      },
      "execution_count": 6,
      "outputs": [
        {
          "output_type": "stream",
          "name": "stdout",
          "text": [
            "CPU times: user 1.24 s, sys: 192 ms, total: 1.43 s\n",
            "Wall time: 2min 3s\n"
          ]
        }
      ]
    },
    {
      "cell_type": "code",
      "source": [
        "#@title Install KGTK and Papermill\n",
        "\n",
        "%%time\n",
        "%%capture\n",
        "\n",
        "\n",
        "# install KGTK from pip\n",
        "!pip install kgtk\n",
        "\n",
        "\n",
        "# install papermill\n",
        "!pip install papermill"
      ],
      "metadata": {
        "colab": {
          "base_uri": "https://localhost:8080/"
        },
        "id": "EdbthGWPHEy1",
        "outputId": "40e97723-8978-4bc9-e26a-9cdceb7b662f"
      },
      "execution_count": 7,
      "outputs": [
        {
          "output_type": "stream",
          "name": "stdout",
          "text": [
            "CPU times: user 134 ms, sys: 48.8 ms, total: 183 ms\n",
            "Wall time: 13.9 s\n"
          ]
        }
      ]
    },
    {
      "cell_type": "code",
      "source": [
        "#@title Install sqlite db\n",
        "\n",
        "%%time\n",
        "%%capture\n",
        "\n",
        "\n",
        "# install sqlite3\n",
        "!apt-get install sqlite3=3.34.1 --yes"
      ],
      "metadata": {
        "colab": {
          "base_uri": "https://localhost:8080/"
        },
        "id": "pXqIJSePyKPa",
        "outputId": "e7eca3ed-5c06-4161-e88d-347093950758"
      },
      "execution_count": 8,
      "outputs": [
        {
          "output_type": "stream",
          "name": "stdout",
          "text": [
            "CPU times: user 27.5 ms, sys: 11.2 ms, total: 38.7 ms\n",
            "Wall time: 2.72 s\n"
          ]
        }
      ]
    },
    {
      "cell_type": "markdown",
      "source": [
        "# Step 2: Setup KGTK Graph Cache\n"
      ],
      "metadata": {
        "id": "pCdgKsXIABwi"
      }
    },
    {
      "cell_type": "code",
      "execution_count": 10,
      "metadata": {
        "id": "DPLV2Uj23AcU",
        "colab": {
          "base_uri": "https://localhost:8080/"
        },
        "outputId": "40851c67-9df3-4bbe-9b0e-8d0278e1a166"
      },
      "outputs": [
        {
          "output_type": "stream",
          "name": "stdout",
          "text": [
            "CPU times: user 477 ms, sys: 83.8 ms, total: 560 ms\n",
            "Wall time: 2.78 s\n"
          ]
        }
      ],
      "source": [
        "#@title Configure KGTK variables\n",
        "\n",
        "%%time\n",
        "%%capture\n",
        "\n",
        "# Import the main kgtk package\n",
        "from kgtk.functions import kgtk, kypher\n",
        "from kgtk.configure_kgtk_notebooks import ConfigureKGTK\n",
        "\n",
        "# Minimal KGTK configuration for this example\n",
        "ck = ConfigureKGTK(['all'])\n",
        "ck.configure_kgtk(\n",
        "    graph_cache_path='/content/wikidata.sqlite3.db',\n",
        "    output_path='./output',\n",
        "    project_name='kgtk-tutorial',\n",
        ")"
      ]
    },
    {
      "cell_type": "code",
      "source": [
        "#@title Check environment variables\n",
        "\n",
        "# Review all of the environment variables used\n",
        "ck.print_env_variables()"
      ],
      "metadata": {
        "colab": {
          "base_uri": "https://localhost:8080/"
        },
        "id": "S4_-Dn-8aMJu",
        "outputId": "18845b58-c7df-430d-9123-a796dad6f465"
      },
      "execution_count": 11,
      "outputs": [
        {
          "output_type": "stream",
          "name": "stdout",
          "text": [
            "TEMP: ./output/kgtk-tutorial/temp.kgtk-tutorial\n",
            "STORE: /content/wikidata.sqlite3.db\n",
            "EXAMPLES_DIR: //examples\n",
            "kypher: kgtk query --graph-cache /content/wikidata.sqlite3.db\n",
            "KGTK_OPTION_DEBUG: false\n",
            "KGTK_LABEL_FILE: /root/isi-kgtk-tutorial/kgtk-tutorial_input/labels.en.tsv.gz\n",
            "kgtk: kgtk\n",
            "OUT: ./output/kgtk-tutorial\n",
            "KGTK_GRAPH_CACHE: /content/wikidata.sqlite3.db\n",
            "USE_CASES_DIR: //use-cases\n",
            "GRAPH: /root/isi-kgtk-tutorial/kgtk-tutorial_input\n",
            "all: /root/isi-kgtk-tutorial/kgtk-tutorial_input/all.tsv.gz\n"
          ]
        }
      ]
    },
    {
      "cell_type": "code",
      "source": [
        "#@title Partition our data into separate files\n",
        "\n",
        "%%time\n",
        "%%capture\n",
        "\n",
        "\n",
        "import os\n",
        "import papermill as pm\n",
        "\n",
        "\n",
        "pm.execute_notebook(\n",
        "    \"/content/kgtk-notebooks/use-cases/create_wikidata/partition-wikidata.ipynb\",\n",
        "    os.environ[\"TEMP\"] + \"/partition-wikidata.out.ipynb\",\n",
        "    parameters=dict(\n",
        "        wikidata_input_path = os.environ[\"all\"],\n",
        "        wikidata_parts_path = os.environ[\"OUT\"] + \"/parts\",\n",
        "        temp_folder_path = os.environ[\"OUT\"] + \"/parts/temp\",\n",
        "        sort_extras = \"--buffer-size 30% --temporary-directory $OUT/parts/temp\",\n",
        "        verbose = False,\n",
        "        gzip_command = 'gzip'\n",
        "    )\n",
        ")"
      ],
      "metadata": {
        "colab": {
          "base_uri": "https://localhost:8080/",
          "height": 52
        },
        "id": "BOccx3OzJSRW",
        "outputId": "802909e9-807c-46d2-b425-51ce0196f114"
      },
      "execution_count": 12,
      "outputs": [
        {
          "output_type": "stream",
          "name": "stdout",
          "text": [
            "CPU times: user 3.76 s, sys: 360 ms, total: 4.12 s\n",
            "Wall time: 3min 29s\n"
          ]
        }
      ]
    },
    {
      "cell_type": "code",
      "source": [
        "#@title Calculate pagerank for all the nodes\n",
        "# this is necessary for the search\n",
        "\n",
        "%%time\n",
        "%%capture\n",
        "\n",
        "\n",
        "kgtk(\"\"\"\n",
        "  --debug graph-statistics\n",
        "  -i /content/output/kgtk-tutorial/parts/claims.tsv.gz\n",
        "  -o /content/output/kgtk-tutorial/parts/metadata.pagerank.undirected.tsv.gz\n",
        "  --compute-pagerank True\n",
        "  --compute-hits False\n",
        "  --page-rank-property Pundirected_pagerank\n",
        "  --output-degrees False\n",
        "  --output-pagerank True\n",
        "  --output-hits False\n",
        "  --output-statistics-only\n",
        "  --undirected True\n",
        "  --log-file ./output/kgtk-tutorial/temp.kgtk-tutorial/metadata.pagerank.undirected.summary.txt\n",
        "\"\"\")"
      ],
      "metadata": {
        "colab": {
          "base_uri": "https://localhost:8080/"
        },
        "id": "zk0B7c1HHu4w",
        "outputId": "0829d92b-8d43-4db3-cfd9-7aa56496aca6"
      },
      "execution_count": 13,
      "outputs": [
        {
          "output_type": "stream",
          "name": "stdout",
          "text": [
            "CPU times: user 338 ms, sys: 48.4 ms, total: 387 ms\n",
            "Wall time: 49.9 s\n"
          ]
        }
      ]
    },
    {
      "cell_type": "code",
      "source": [
        "#@title Create the graph cache db\n",
        "\n",
        "%%time\n",
        "%%capture\n",
        "\n",
        "\n",
        "import os\n",
        "\n",
        "\n",
        "pm.execute_notebook(\n",
        "    \"/content/kgtk-notebooks/use-cases/create_wikidata/KGTK-Query-Text-Search-Setup.ipynb\",\n",
        "    os.environ[\"TEMP\"] + \"/KGTK-Query-Text-Search-Setup.out.ipynb\",\n",
        "    kernel_name='kgtk-env',\n",
        "    parameters=dict(\n",
        "        input_path = '/content/output/kgtk-tutorial/parts',\n",
        "        output_path = '/content/graph-cache-db/',\n",
        "        project_name = 'kgtk-tutorial',\n",
        "        create_class_viz = 'no',\n",
        "        create_db = 'yes',\n",
        "        create_es = 'no',\n",
        "    )\n",
        ")"
      ],
      "metadata": {
        "colab": {
          "base_uri": "https://localhost:8080/",
          "height": 52
        },
        "id": "V_p3hR4TODWF",
        "outputId": "609ce670-a637-440d-a264-0559213e96e0"
      },
      "execution_count": 14,
      "outputs": [
        {
          "output_type": "stream",
          "name": "stdout",
          "text": [
            "CPU times: user 2.36 s, sys: 160 ms, total: 2.52 s\n",
            "Wall time: 59.2 s\n"
          ]
        }
      ]
    },
    {
      "cell_type": "markdown",
      "source": [
        "# Step 3: Build and run the kgtk-browser"
      ],
      "metadata": {
        "id": "Z0rNBh_Eziwi"
      }
    },
    {
      "cell_type": "code",
      "source": [
        "#@title Build our frontend app\n",
        "\n",
        "%%time\n",
        "%%capture\n",
        "\n",
        "\n",
        "%env PUBLIC_URL=/browser\n",
        "%env REACT_APP_FRONTEND_URL=/browser\n",
        "\n",
        "import os\n",
        "os.environ['REACT_APP_USE_KGTK_KYPHER_BACKEND'] = '1'\n",
        "\n",
        "!cd /content/kgtk-browser/app && npm install\n",
        "!cd /content/kgtk-browser/app && npm run build"
      ],
      "metadata": {
        "colab": {
          "base_uri": "https://localhost:8080/"
        },
        "id": "oslEgpxExMdJ",
        "outputId": "6dc955c9-8694-45d8-8075-beea26e13d17"
      },
      "execution_count": 15,
      "outputs": [
        {
          "output_type": "stream",
          "name": "stdout",
          "text": [
            "CPU times: user 773 ms, sys: 115 ms, total: 887 ms\n",
            "Wall time: 1min 30s\n"
          ]
        }
      ]
    },
    {
      "cell_type": "code",
      "execution_count": 16,
      "metadata": {
        "colab": {
          "base_uri": "https://localhost:8080/",
          "height": 34
        },
        "id": "x1C4nRTTLEaZ",
        "outputId": "811c08ef-336b-49df-e5ff-069edb1b4af9"
      },
      "outputs": [
        {
          "output_type": "stream",
          "name": "stdout",
          "text": [
            "https://dd1iipgmbg6-496ff2e9c6d22116-3233-colab.googleusercontent.com/\n"
          ]
        }
      ],
      "source": [
        "#@title Open a connection to this notebook\n",
        "# using the same port as the kgtk-browser backend\n",
        "\n",
        "from google.colab.output import eval_js\n",
        "print(eval_js(\"google.colab.kernel.proxyPort(3233)\"))"
      ]
    },
    {
      "cell_type": "code",
      "execution_count": null,
      "metadata": {
        "colab": {
          "base_uri": "https://localhost:8080/"
        },
        "id": "JI63TJTpLJO-",
        "outputId": "6a14ad5f-1fdb-47bb-e258-0ab7faf56795"
      },
      "outputs": [
        {
          "metadata": {
            "tags": null
          },
          "name": "stdout",
          "output_type": "stream",
          "text": [
            "env: DEVELOPMENT=True\n",
            "env: KGTK_BROWSER_STATIC_URL=/browser\n",
            "env: KGTK_BROWSER_GRAPH_CACHE=/content/graph-cache-db/kgtk-tutorial/temp.kgtk-tutorial/wikidata.sqlite3.db\n",
            " * Serving Flask app 'kgtk_browser_app' (lazy loading)\n",
            " * Environment: production\n",
            "\u001b[31m   WARNING: This is a development server. Do not use it in a production deployment.\u001b[0m\n",
            "\u001b[2m   Use a production WSGI server instead.\u001b[0m\n",
            " * Debug mode: on\n",
            "\u001b[31m\u001b[1mWARNING: This is a development server. Do not use it in a production deployment. Use a production WSGI server instead.\u001b[0m\n",
            " * Running on all addresses (0.0.0.0)\n",
            " * Running on http://127.0.0.1:3233\n",
            " * Running on http://172.28.0.12:3233\n",
            "\u001b[33mPress CTRL+C to quit\u001b[0m\n",
            " * Restarting with stat\n",
            " * Debugger is active!\n",
            " * Debugger PIN: 350-343-606\n",
            "127.0.0.1 - - [07/Feb/2023 16:36:48] \"\u001b[33mGET / HTTP/1.1\u001b[0m\" 404 -\n",
            "127.0.0.1 - - [07/Feb/2023 16:36:54] \"GET /browser HTTP/1.1\" 200 -\n",
            "127.0.0.1 - - [07/Feb/2023 16:36:54] \"GET /browser/static/js/2.3bc2afff.chunk.js HTTP/1.1\" 200 -\n",
            "127.0.0.1 - - [07/Feb/2023 16:36:54] \"GET /browser/static/js/main.3c3c3740.chunk.js HTTP/1.1\" 200 -\n",
            "127.0.0.1 - - [07/Feb/2023 16:36:57] \"GET /kb/info HTTP/1.1\" 200 -\n",
            "127.0.0.1 - - [07/Feb/2023 16:36:57] \"GET /browser/static/js/3.6705ebe1.chunk.js HTTP/1.1\" 200 -\n",
            "127.0.0.1 - - [07/Feb/2023 16:36:57] \"GET /browser/images/icons/icon-128x128.png HTTP/1.1\" 200 -\n",
            "127.0.0.1 - - [07/Feb/2023 16:36:57] \"GET /browser/manifest.json HTTP/1.1\" 200 -\n",
            "127.0.0.1 - - [07/Feb/2023 16:37:05] \"GET /kb/query?q=movie HTTP/1.1\" 200 -\n",
            "127.0.0.1 - - [07/Feb/2023 16:37:10] \"GET /kb/query?q=film HTTP/1.1\" 200 -\n",
            "127.0.0.1 - - [07/Feb/2023 16:37:11] \"GET /browser/Q11424 HTTP/1.1\" 200 -\n",
            "127.0.0.1 - - [07/Feb/2023 16:37:12] \"GET /browser/static/js/2.3bc2afff.chunk.js HTTP/1.1\" 200 -\n",
            "127.0.0.1 - - [07/Feb/2023 16:37:12] \"GET /browser/static/js/main.3c3c3740.chunk.js HTTP/1.1\" 200 -\n",
            "11564\tEndpoint:xitem-create-kypher-api\tQnode:Q11424\tTime taken:2.193450927734375e-05\n",
            "127.0.0.1 - - [07/Feb/2023 16:37:14] \"GET /kb/info HTTP/1.1\" 200 -\n",
            "11564\tEndpoint:xitem-get-prop-values\tQnode:Q11424\tTime taken:0.05162453651428223\n",
            "11564\tEndpoint:xitem-sep-hc-props\tQnode:Q11424\tTime taken:3.123283386230469e-05\n",
            "127.0.0.1 - - [07/Feb/2023 16:37:14] \"GET /browser/images/icons/icon-128x128.png HTTP/1.1\" 200 -\n",
            "127.0.0.1 - - [07/Feb/2023 16:37:14] \"GET /browser/static/js/3.6705ebe1.chunk.js HTTP/1.1\" 200 -\n",
            "11564\tEndpoint:xitem-get-node-edges\tQnode:Q11424\tTime taken:0.2422335147857666\n",
            "11564\tEndpoint:xitem-egt-node-labels\tQnode:Q11424\tTime taken:0.13939213752746582\n",
            "11564\tEndpoint:xitem-get-node-aliases\tQnode:Q11424\tTime taken:0.03267860412597656\n",
            "11564\tEndpoint:xitem-get-node-descriptions\tQnode:Q11424\tTime taken:0.022382736206054688\n",
            "ERROR: [Errno 2] No such file or directory: '/content/kgtk-browser/classvizedge'\n",
            "127.0.0.1 - - [07/Feb/2023 16:37:15] \"\u001b[35m\u001b[1mGET /kb/get_class_graph_data/Q11424 HTTP/1.1\u001b[0m\" 500 -\n",
            "11564\tEndpoint:xitem-get-qualifiers\tQnode:Q11424\tTime taken:0.3870077133178711\n",
            "11555\tEndpoint:xitem\tQnode:Q11424\tTime taken:0.9096908569335938\n",
            "xitem time: 0.909867525100708\n",
            "127.0.0.1 - - [07/Feb/2023 16:37:15] \"GET /kb/xitem?id=Q11424 HTTP/1.1\" 200 -\n",
            "127.0.0.1 - - [07/Feb/2023 16:37:15] \"GET /browser/manifest.json HTTP/1.1\" 200 -\n",
            "11564\tEndpoint:ritem-value-counts\tQnode:Q11424\tTime taken:0.1855475902557373\n",
            "11564\tEndpoint:ritem-get-edges\tQnode:Q11424\tTime taken:0.07136750221252441\n",
            "11555\tEndpoint:ritem\tQnode:Q11424\tTime taken:1.187812089920044\n",
            "ritem time: 1.187990427017212\n",
            "127.0.0.1 - - [07/Feb/2023 16:37:15] \"GET /kb/ritem?id=Q11424 HTTP/1.1\" 200 -\n",
            "11555\tEndpoint:rproperty\tQnode/Property:Q11424/P31\tTime taken:0.35315799713134766\n",
            "127.0.0.1 - - [07/Feb/2023 16:37:17] \"GET /kb/rproperty?id=Q11424&limit=10&property=P31&skip=0 HTTP/1.1\" 200 -\n",
            "11555\tEndpoint:rproperty\tQnode/Property:Q11424/P279star\tTime taken:0.6893651485443115\n",
            "127.0.0.1 - - [07/Feb/2023 16:37:18] \"GET /kb/rproperty?id=Q11424&limit=10&property=P279star&skip=0 HTTP/1.1\" 200 -\n",
            "11555\tEndpoint:rproperty\tQnode/Property:Q11424/P1056\tTime taken:0.837670087814331\n",
            "127.0.0.1 - - [07/Feb/2023 16:37:18] \"GET /kb/rproperty?id=Q11424&limit=10&property=P1056&skip=0 HTTP/1.1\" 200 -\n",
            "11555\tEndpoint:rproperty\tQnode/Property:Q11424/P279\tTime taken:1.1608266830444336\n",
            "127.0.0.1 - - [07/Feb/2023 16:37:18] \"GET /kb/rproperty?id=Q11424&limit=10&property=P279&skip=0 HTTP/1.1\" 200 -\n"
          ]
        }
      ],
      "source": [
        "#@title Run the browser backend\n",
        "\n",
        "\n",
        "%env DEVELOPMENT=True\n",
        "%env KGTK_BROWSER_STATIC_URL=/browser\n",
        "%env KGTK_BROWSER_GRAPH_CACHE=/content/graph-cache-db/kgtk-tutorial/temp.kgtk-tutorial/wikidata.sqlite3.db\n",
        "\n",
        "\n",
        "# Change into the browser directory and un the kgtk browser command\n",
        "!cd /content/kgtk-browser/ && python kgtk_browser_app.py"
      ]
    }
  ],
  "metadata": {
    "colab": {
      "machine_shape": "hm",
      "toc_visible": true,
      "provenance": [],
      "include_colab_link": true
    },
    "gpuClass": "standard",
    "kernelspec": {
      "display_name": "Python 3",
      "name": "python3"
    },
    "language_info": {
      "name": "python"
    }
  },
  "nbformat": 4,
  "nbformat_minor": 0
}